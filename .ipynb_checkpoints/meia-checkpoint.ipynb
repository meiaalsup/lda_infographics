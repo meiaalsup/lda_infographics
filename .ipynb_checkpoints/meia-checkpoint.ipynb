{
 "cells": [
  {
   "cell_type": "markdown",
   "metadata": {
    "colab_type": "text",
    "id": "o7C46aXQ8mXq"
   },
   "source": [
    "# 6.804 Final Project\n",
    "\n",
    "Meia Alsup, Sravya Bhamidipati, Anelise Newman"
   ]
  },
  {
   "cell_type": "code",
   "execution_count": 48,
   "metadata": {
    "colab": {},
    "colab_type": "code",
    "id": "hcUwnbva74ov"
   },
   "outputs": [],
   "source": [
    "from string import digits\n",
    "import json\n",
    "import pickle as pkl\n",
    "import numpy as np\n",
    "import pandas as pd\n",
    "import matplotlib.pyplot as plt\n",
    "import os\n",
    "\n",
    "from IPython.display import Image, display\n",
    "from IPython.core.display import HTML \n",
    "import urllib.request as request\n",
    "\n",
    "from gensim.corpora.dictionary import Dictionary\n",
    "from gensim.models import LdaModel\n",
    "from gensim.parsing.preprocessing import STOPWORDS\n",
    "from nltk.stem import WordNetLemmatizer, SnowballStemmer\n",
    "from nltk.stem.porter import *\n",
    "from nltk.corpus import wordnet\n",
    "import nltk\n"
   ]
  },
  {
   "cell_type": "code",
   "execution_count": 2,
   "metadata": {},
   "outputs": [],
   "source": [
    " #ocr = pkl.load(open('raw_ocr_output.pickle','rb'))\n",
    "#less_ocr = {key: ocr[key] for i, key in enumerate(ocr) if i < 100}\n",
    "#less_ocr"
   ]
  },
  {
   "cell_type": "code",
   "execution_count": 4,
   "metadata": {},
   "outputs": [],
   "source": [
    "#f = open('icon_annotations_testing.pickle','rb')\n",
    "#icons = pkl.load(f)\n",
    "#f.close()"
   ]
  },
  {
   "cell_type": "markdown",
   "metadata": {},
   "source": [
    "## Clean input to just English words\n",
    "\n"
   ]
  },
  {
   "cell_type": "code",
   "execution_count": 10,
   "metadata": {
    "colab": {},
    "colab_type": "code",
    "id": "yOPDW6QT8dTe"
   },
   "outputs": [
    {
     "name": "stdout",
     "output_type": "stream",
     "text": [
      "We have extracted words from 62361 infographics.\n"
     ]
    }
   ],
   "source": [
    "f = open('google_text_extraction_output.pckl','rb')\n",
    "infographic_name_to_words = pkl.load(f)\n",
    "f.close()\n",
    "\n",
    "print('We have extracted words from %d infographics.'%len(infographic_name_to_words))"
   ]
  },
  {
   "cell_type": "code",
   "execution_count": 11,
   "metadata": {},
   "outputs": [],
   "source": [
    "def contains_english(set_of_words):\n",
    "    english = set(['the', 'she', 'different', 'time', 'and', 'client', 'sports', 'grammar', 'family', 'report'])\n",
    "    spanish = set(['el', 'es', 'cuando', 'esta', 'malo', 'que', 'tiene', 'para'])\n",
    "    if bool(set(set_of_words) & spanish):\n",
    "        return False\n",
    "    if bool(set(set_of_words) & english):\n",
    "        return True\n",
    "    return False"
   ]
  },
  {
   "cell_type": "code",
   "execution_count": 12,
   "metadata": {},
   "outputs": [
    {
     "data": {
      "text/plain": [
       "46952"
      ]
     },
     "execution_count": 12,
     "metadata": {},
     "output_type": "execute_result"
    }
   ],
   "source": [
    "english  = {key: val for key, val in infographic_name_to_words.items() if contains_english(val)}\n",
    "len(english)"
   ]
  },
  {
   "cell_type": "code",
   "execution_count": 11,
   "metadata": {},
   "outputs": [],
   "source": [
    "json.dump(english, open('filtered.json', 'w'))\n",
    "json.dump([key for key, val in english.items()], open('filtered_keys.json', 'w'))"
   ]
  },
  {
   "cell_type": "code",
   "execution_count": 47,
   "metadata": {},
   "outputs": [],
   "source": [
    "\n",
    "newEnglish = {}\n",
    "newList = []\n",
    "stemmer = PorterStemmer()\n",
    "for url, wordList in english.items():\n",
    "    thisList = []\n",
    "    for word in wordList:\n",
    "        if len(word) > 2 and word.isalpha() and word not in STOPWORDS and wordnet.synsets(word):\n",
    "            thisList.append(word.lower())\n",
    "            #thisList.append(stemmer.stem(WordNetLemmatizer().lemmatize(word.lower(), pos='v')))\n",
    "    newList.append(thisList)\n",
    "    newEnglish[url] = thisList"
   ]
  },
  {
   "cell_type": "code",
   "execution_count": 39,
   "metadata": {
    "colab": {},
    "colab_type": "code",
    "id": "OWx81Nf-8gV_"
   },
   "outputs": [],
   "source": [
    "NUM_TOPICS = 20"
   ]
  },
  {
   "cell_type": "code",
   "execution_count": 40,
   "metadata": {},
   "outputs": [],
   "source": [
    "# Create a corpus from a list of texts\n",
    "common_dictionary = Dictionary(newList)\n",
    "common_dictionary.filter_extremes(no_below=15, no_above=0.5, keep_n=10000)\n",
    "\n",
    "common_corpus = [common_dictionary.doc2bow(text) for text in newList]\n",
    "# Train the model on the corpus.\n",
    "id2token = {val:key for key, val in common_dictionary.token2id.items()}"
   ]
  },
  {
   "cell_type": "code",
   "execution_count": 41,
   "metadata": {},
   "outputs": [],
   "source": [
    "# Train the model on the corpus.\n",
    "lda = LdaModel(common_corpus, num_topics=NUM_TOPICS)"
   ]
  },
  {
   "cell_type": "code",
   "execution_count": 42,
   "metadata": {},
   "outputs": [
    {
     "name": "stdout",
     "output_type": "stream",
     "text": [
      "Topic number 0\n",
      "Top 20 terms: dict_keys(['home', 'price', 'market', 'real', 'average', 'property', 'value', 'estate', 'money', 'sales', 'house', 'prices', 'buy', 'new', 'stock', 'buying', 'sell', 'london', 'homes', 'investment'])\n",
      "Topic number 1\n",
      "Top 20 terms: dict_keys(['social', 'media', 'marketing', 'content', 'customer', 'customers', 'people', 'email', 'use', 'twitter', 'brand', 'business', 'post', 'marketers', 'service', 'page', 'blog', 'share', 'create', 'like'])\n",
      "Topic number 2\n",
      "Top 20 terms: dict_keys(['million', 'united', 'states', 'world', 'new', 'years', 'number', 'south', 'population', 'state', 'countries', 'north', 'year', 'people', 'national', 'total', 'average', 'america', 'american', 'age'])\n",
      "Topic number 3\n",
      "Top 20 terms: dict_keys(['users', 'online', 'internet', 'google', 'mobile', 'search', 'web', 'million', 'video', 'website', 'site', 'billion', 'social', 'use', 'user', 'sites', 'digital', 'content', 'data', 'people'])\n",
      "Topic number 4\n",
      "Top 20 terms: dict_keys(['energy', 'water', 'power', 'gas', 'air', 'solar', 'use', 'oil', 'home', 'carbon', 'electricity', 'light', 'heat', 'save', 'fuel', 'heating', 'green', 'emissions', 'natural', 'year'])\n",
      "Topic number 5\n",
      "Top 20 terms: dict_keys(['car', 'cars', 'home', 'vehicle', 'air', 'miles', 'engine', 'vehicles', 'kitchen', 'new', 'auto', 'room', 'fuel', 'space', 'cost', 'damage', 'bed', 'bathroom', 'drive', 'motor'])\n",
      "Topic number 6\n",
      "Top 20 terms: dict_keys(['top', 'job', 'team', 'new', 'march', 'president', 'news', 'best', 'vote', 'social', 'most', 'jobs', 'twitter', 'design', 'people', 'score', 'media', 'february', 'political', 'members'])\n",
      "Topic number 7\n",
      "Top 20 terms: dict_keys(['credit', 'debt', 'card', 'dog', 'loan', 'pet', 'water', 'cards', 'loans', 'dogs', 'average', 'military', 'ukraine', 'pets', 'cat', 'bankruptcy', 'control', 'food', 'attacks', 'score'])\n",
      "Topic number 8\n",
      "Top 20 terms: dict_keys(['color', 'design', 'look', 'style', 'colors', 'like', 'white', 'different', 'blue', 'size', 'black', 'light', 'wear', 'right', 'best', 'red', 'shoes', 'perfect', 'use', 'shape'])\n",
      "Topic number 9\n",
      "Top 20 terms: dict_keys(['game', 'games', 'first', 'hair', 'music', 'players', 'super', 'play', 'time', 'player', 'million', 'team', 'bowl', 'round', 'all', 'cup', 'season', 'printing', 'ball', 'record'])\n",
      "Topic number 10\n",
      "Top 20 terms: dict_keys(['mobile', 'phone', 'shopping', 'apple', 'devices', 'use', 'online', 'android', 'store', 'device', 'phones', 'holiday', 'consumers', 'tablet', 'sales', 'retail', 'purchase', 'shoppers', 'cell', 'free'])\n",
      "Topic number 11\n",
      "Top 20 terms: dict_keys(['work', 'students', 'school', 'college', 'education', 'time', 'job', 'people', 'help', 'employees', 'university', 'are', 'working', 'learning', 'need', 'degree', 'high', 'workers', 'student', 'skills'])\n",
      "Topic number 12\n",
      "Top 20 terms: dict_keys(['food', 'water', 'coffee', 'wine', 'calories', 'eat', 'foods', 'tea', 'drink', 'fish', 'beer', 'green', 'gold', 'cup', 'fat', 'day', 'ice', 'red', 'hot', 'protein'])\n",
      "Topic number 13\n",
      "Top 20 terms: dict_keys(['security', 'data', 'information', 'use', 'drug', 'safety', 'child', 'drugs', 'protect', 'theft', 'abuse', 'children', 'access', 'protection', 'personal', 'identity', 'stolen', 'fraud', 'crime', 'safe'])\n",
      "Topic number 14\n",
      "Top 20 terms: dict_keys(['use', 'need', 'sure', 'time', 'make', 'step', 'help', 'right', 'easy', 'process', 'good', 'avoid', 'tips', 'keep', 'check', 'test', 'ensure', 'free', 'know', 'like'])\n",
      "Topic number 15\n",
      "Top 20 terms: dict_keys(['yes', 'driving', 'injuries', 'drivers', 'injury', 'deaths', 'accidents', 'road', 'death', 'are', 'people', 'year', 'traffic', 'driver', 'accident', 'safety', 'fatal', 'crashes', 'speed', 'car'])\n",
      "Topic number 16\n",
      "Top 20 terms: dict_keys(['billion', 'cost', 'insurance', 'million', 'average', 'tax', 'health', 'costs', 'care', 'pay', 'total', 'income', 'financial', 'year', 'annual', 'money', 'services', 'medical', 'spending', 'federal'])\n",
      "Topic number 17\n",
      "Top 20 terms: dict_keys(['women', 'health', 'men', 'people', 'heart', 'skin', 'blood', 'risk', 'disease', 'body', 'sleep', 'cancer', 'treatment', 'brain', 'help', 'pain', 'age', 'healthy', 'stress', 'cause'])\n",
      "Topic number 18\n",
      "Top 20 terms: dict_keys(['business', 'data', 'companies', 'cloud', 'growth', 'new', 'technology', 'management', 'industry', 'businesses', 'global', 'market', 'sales', 'services', 'development', 'small', 'company', 'increase', 'software', 'support'])\n",
      "Topic number 19\n",
      "Top 20 terms: dict_keys(['day', 'travel', 'new', 'time', 'love', 'people', 'wedding', 'like', 'best', 'family', 'world', 'great', 'book', 'hotel', 'year', 'big', 'man', 'christmas', 'fun', 'know'])\n"
     ]
    }
   ],
   "source": [
    "for i in range(NUM_TOPICS):\n",
    "    terms = lda.get_topic_terms(i, 20)\n",
    "    print(f'Topic number {i}')\n",
    "    val = {id2token[t[0]]: t[1] for t in terms}\n",
    "    #print(f'Top 20 terms: {val}')\n",
    "    print(f'Top 20 terms: {val.keys()}')"
   ]
  },
  {
   "cell_type": "code",
   "execution_count": 43,
   "metadata": {},
   "outputs": [],
   "source": [
    "saved = lda.save('saved_lda_15_topics')"
   ]
  },
  {
   "cell_type": "markdown",
   "metadata": {},
   "source": [
    "## Intersction with infographics that have labeled bounding boxes"
   ]
  },
  {
   "cell_type": "code",
   "execution_count": null,
   "metadata": {},
   "outputs": [],
   "source": [
    "# annotations from task where participants marked bounding boxes around all icons on an infographic\n",
    "icon_dict = pkl.load(open( \"icon_annotations_all.pickle\", \"rb\") )\n",
    "icons_english  = set(icon_dict.keys())"
   ]
  },
  {
   "cell_type": "code",
   "execution_count": 17,
   "metadata": {},
   "outputs": [],
   "source": [
    "base='http://thumbnails.visually.netdna-cdn.com'"
   ]
  },
  {
   "cell_type": "code",
   "execution_count": 13,
   "metadata": {},
   "outputs": [],
   "source": [
    "intersection = set([url_ for url_ in english.keys() if url_ in icons_english])"
   ]
  },
  {
   "cell_type": "code",
   "execution_count": 15,
   "metadata": {},
   "outputs": [
    {
     "data": {
      "text/plain": [
       "1079"
      ]
     },
     "execution_count": 15,
     "metadata": {},
     "output_type": "execute_result"
    }
   ],
   "source": [
    "len(intersection)"
   ]
  },
  {
   "cell_type": "code",
   "execution_count": 18,
   "metadata": {},
   "outputs": [],
   "source": [
    "for url_ in intersection:\n",
    "    #display(Image(url=f'{base}/{url_}'))\n",
    "    request.urlretrieve(f'{base}/{url_}', f'images/{url_}')"
   ]
  },
  {
   "cell_type": "markdown",
   "metadata": {},
   "source": [
    "## See category labels for chosen inforgraphics\n"
   ]
  },
  {
   "cell_type": "code",
   "execution_count": 65,
   "metadata": {},
   "outputs": [],
   "source": [
    "lda = LdaModel.load('saved_lda_20_topics')"
   ]
  },
  {
   "cell_type": "code",
   "execution_count": 56,
   "metadata": {},
   "outputs": [],
   "source": [
    "categories = {\n",
    "    0: 'healthcare',\n",
    "    1: 'economy and government',\n",
    "    2: 'work and positivity',\n",
    "    3: 'celebrations, family, and holidays',\n",
    "    4: 'Internet and social media',\n",
    "    5: 'international world',\n",
    "    6: 'body and health',\n",
    "    7: 'shopping and travel',\n",
    "    8: 'online shopping',\n",
    "    9: 'marketing',\n",
    "    10: 'beach',\n",
    "    11: 'education',\n",
    "    12: 'mobile phones and devices',\n",
    "    13: 'food',\n",
    "    14: 'cars and driving',\n",
    "    15: 'culture and colors',\n",
    "    16: 'money and finances',\n",
    "    17: 'energy and environment',\n",
    "    18: 'house and home',\n",
    "    19: 'business and technology',\n",
    "}\n"
   ]
  },
  {
   "cell_type": "code",
   "execution_count": 66,
   "metadata": {},
   "outputs": [
    {
     "data": {
      "text/html": [
       "<img src=\"http://thumbnails.visually.netdna-cdn.com/the-facts-about-heart-disease_50290aaf3b5fd.jpg\" width=\"300\"/>"
      ],
      "text/plain": [
       "<IPython.core.display.Image object>"
      ]
     },
     "metadata": {},
     "output_type": "display_data"
    },
    {
     "name": "stdout",
     "output_type": "stream",
     "text": [
      "{'healthcare': 0.2862417, 'body and health': 0.6130413, 'food': 0.03788732, 'house and home': 0.058528658}\n",
      "\n"
     ]
    },
    {
     "data": {
      "text/html": [
       "<img src=\"http://thumbnails.visually.netdna-cdn.com/obesity-in-america_50290afac75c5.jpg\" width=\"300\"/>"
      ],
      "text/plain": [
       "<IPython.core.display.Image object>"
      ]
     },
     "metadata": {},
     "output_type": "display_data"
    },
    {
     "name": "stdout",
     "output_type": "stream",
     "text": [
      "{'healthcare': 0.72177523, 'economy and government': 0.06076617, 'body and health': 0.18013698, 'food': 0.011442676, 'cars and driving': 0.017356245}\n",
      "\n"
     ]
    },
    {
     "data": {
      "text/html": [
       "<img src=\"http://thumbnails.visually.netdna-cdn.com/the-egreen-society-how-britain-can-recycle-and-be-more-responsible_535a49b55ca1f.jpg\" width=\"300\"/>"
      ],
      "text/plain": [
       "<IPython.core.display.Image object>"
      ]
     },
     "metadata": {},
     "output_type": "display_data"
    },
    {
     "name": "stdout",
     "output_type": "stream",
     "text": [
      "{'work and positivity': 0.14892969, 'international world': 0.08432118, 'culture and colors': 0.12769695, 'energy and environment': 0.62423736}\n",
      "\n"
     ]
    },
    {
     "data": {
      "text/html": [
       "<img src=\"http://thumbnails.visually.netdna-cdn.com/how-to-spot-a-hidden-handgun_50290a774933e.jpg\" width=\"300\"/>"
      ],
      "text/plain": [
       "<IPython.core.display.Image object>"
      ]
     },
     "metadata": {},
     "output_type": "display_data"
    },
    {
     "name": "stdout",
     "output_type": "stream",
     "text": [
      "{'work and positivity': 0.19970934, 'celebrations, family, and holidays': 0.011472757, 'body and health': 0.11963423, 'shopping and travel': 0.07180003, 'beach': 0.5734416, 'money and finances': 0.01911445}\n",
      "\n"
     ]
    },
    {
     "data": {
      "text/html": [
       "<img src=\"http://thumbnails.visually.netdna-cdn.com/internet-speeds-and-costs-around-the-world_50290a7186731.jpeg\" width=\"300\"/>"
      ],
      "text/plain": [
       "<IPython.core.display.Image object>"
      ]
     },
     "metadata": {},
     "output_type": "display_data"
    },
    {
     "name": "stdout",
     "output_type": "stream",
     "text": [
      "{'international world': 0.6628869, 'mobile phones and devices': 0.20907088, 'money and finances': 0.109153345}\n",
      "\n"
     ]
    },
    {
     "data": {
      "text/html": [
       "<img src=\"http://thumbnails.visually.netdna-cdn.com/super-dad_502910d3ad406.png\" width=\"300\"/>"
      ],
      "text/plain": [
       "<IPython.core.display.Image object>"
      ]
     },
     "metadata": {},
     "output_type": "display_data"
    },
    {
     "name": "stdout",
     "output_type": "stream",
     "text": [
      "{'healthcare': 0.43167782, 'economy and government': 0.15409864, 'work and positivity': 0.12145613, 'celebrations, family, and holidays': 0.25244063, 'food': 0.03318395}\n",
      "\n"
     ]
    },
    {
     "data": {
      "text/html": [
       "<img src=\"http://thumbnails.visually.netdna-cdn.com/hunters-vs-farmers-sales-personas_51e5924c2f823.png\" width=\"300\"/>"
      ],
      "text/plain": [
       "<IPython.core.display.Image object>"
      ]
     },
     "metadata": {},
     "output_type": "display_data"
    },
    {
     "name": "stdout",
     "output_type": "stream",
     "text": [
      "{'work and positivity': 0.15664695, 'celebrations, family, and holidays': 0.01622833, 'shopping and travel': 0.08047068, 'online shopping': 0.064194806, 'marketing': 0.061620463, 'education': 0.01929929, 'energy and environment': 0.058643293, 'business and technology': 0.53763306}\n",
      "\n"
     ]
    },
    {
     "data": {
      "text/html": [
       "<img src=\"http://thumbnails.visually.netdna-cdn.com/the-furry-side-of-finance_50290bef84b62.png\" width=\"300\"/>"
      ],
      "text/plain": [
       "<IPython.core.display.Image object>"
      ]
     },
     "metadata": {},
     "output_type": "display_data"
    },
    {
     "name": "stdout",
     "output_type": "stream",
     "text": [
      "{'healthcare': 0.029638672, 'economy and government': 0.2213848, 'celebrations, family, and holidays': 0.03342029, 'Internet and social media': 0.09303968, 'international world': 0.012103748, 'shopping and travel': 0.08539943, 'online shopping': 0.027316544, 'money and finances': 0.19992252, 'energy and environment': 0.015356575, 'house and home': 0.2783527}\n",
      "\n"
     ]
    },
    {
     "data": {
      "text/html": [
       "<img src=\"http://thumbnails.visually.netdna-cdn.com/radar-explained_502914ab0fcf1.jpg\" width=\"300\"/>"
      ],
      "text/plain": [
       "<IPython.core.display.Image object>"
      ]
     },
     "metadata": {},
     "output_type": "display_data"
    },
    {
     "name": "stdout",
     "output_type": "stream",
     "text": [
      "{'economy and government': 0.012010605, 'beach': 0.41898227, 'education': 0.19146083, 'cars and driving': 0.26278633, 'energy and environment': 0.028283495, 'house and home': 0.06597841}\n",
      "\n"
     ]
    },
    {
     "data": {
      "text/html": [
       "<img src=\"http://thumbnails.visually.netdna-cdn.com/calories-in-wine-vs-beer_50982977dc9eb.jpg\" width=\"300\"/>"
      ],
      "text/plain": [
       "<IPython.core.display.Image object>"
      ]
     },
     "metadata": {},
     "output_type": "display_data"
    },
    {
     "name": "stdout",
     "output_type": "stream",
     "text": [
      "{'healthcare': 0.1468814, 'economy and government': 0.013485363, 'celebrations, family, and holidays': 0.1617279, 'international world': 0.018667491, 'body and health': 0.05451841, 'beach': 0.19177721, 'education': 0.052240167, 'mobile phones and devices': 0.01170087, 'food': 0.3447043}\n",
      "\n"
     ]
    },
    {
     "data": {
      "text/html": [
       "<img src=\"http://thumbnails.visually.netdna-cdn.com/10-commonly-misunderstood-words-in-english_50290cfa6c279.jpg\" width=\"300\"/>"
      ],
      "text/plain": [
       "<IPython.core.display.Image object>"
      ]
     },
     "metadata": {},
     "output_type": "display_data"
    },
    {
     "name": "stdout",
     "output_type": "stream",
     "text": [
      "{'work and positivity': 0.47167403, 'Internet and social media': 0.06306997, 'international world': 0.070464656, 'body and health': 0.31270987, 'food': 0.022050105, 'culture and colors': 0.042958245}\n",
      "\n"
     ]
    },
    {
     "data": {
      "text/html": [
       "<img src=\"http://thumbnails.visually.netdna-cdn.com/interesting-facts-on-car-crashes_509c3e82230cf.jpg\" width=\"300\"/>"
      ],
      "text/plain": [
       "<IPython.core.display.Image object>"
      ]
     },
     "metadata": {},
     "output_type": "display_data"
    },
    {
     "name": "stdout",
     "output_type": "stream",
     "text": [
      "{'healthcare': 0.27541262, 'economy and government': 0.019948749, 'shopping and travel': 0.021197783, 'cars and driving': 0.67277414}\n",
      "\n"
     ]
    },
    {
     "data": {
      "text/html": [
       "<img src=\"http://thumbnails.visually.netdna-cdn.com/telecom-present--the-future_530b60f629fab.jpg\" width=\"300\"/>"
      ],
      "text/plain": [
       "<IPython.core.display.Image object>"
      ]
     },
     "metadata": {},
     "output_type": "display_data"
    },
    {
     "name": "stdout",
     "output_type": "stream",
     "text": [
      "{'international world': 0.04444812, 'shopping and travel': 0.018816266, 'online shopping': 0.02376778, 'mobile phones and devices': 0.22607867, 'business and technology': 0.68013245}\n",
      "\n"
     ]
    },
    {
     "data": {
      "text/html": [
       "<img src=\"http://thumbnails.visually.netdna-cdn.com/cdc-womens-health-fair_50982d2ebacf9.png\" width=\"300\"/>"
      ],
      "text/plain": [
       "<IPython.core.display.Image object>"
      ]
     },
     "metadata": {},
     "output_type": "display_data"
    },
    {
     "name": "stdout",
     "output_type": "stream",
     "text": [
      "{'healthcare': 0.34090844, 'economy and government': 0.100533806, 'work and positivity': 0.28082752, 'Internet and social media': 0.03358972, 'body and health': 0.097276784, 'cars and driving': 0.12844265}\n",
      "\n"
     ]
    },
    {
     "data": {
      "text/html": [
       "<img src=\"http://thumbnails.visually.netdna-cdn.com/infographic-privatelabel-craft-beers-see-sales-growth_5050b8cfdc6f4.jpg\" width=\"300\"/>"
      ],
      "text/plain": [
       "<IPython.core.display.Image object>"
      ]
     },
     "metadata": {},
     "output_type": "display_data"
    },
    {
     "name": "stdout",
     "output_type": "stream",
     "text": [
      "{'healthcare': 0.060679298, 'celebrations, family, and holidays': 0.019805731, 'shopping and travel': 0.37933525, 'beach': 0.015522571, 'mobile phones and devices': 0.08460226, 'food': 0.17814945, 'money and finances': 0.06493967, 'energy and environment': 0.18046199, 'business and technology': 0.012885329}\n",
      "\n"
     ]
    },
    {
     "data": {
      "text/html": [
       "<img src=\"http://thumbnails.visually.netdna-cdn.com/15-important-mens-hairstyles_502916296a2b9.jpg\" width=\"300\"/>"
      ],
      "text/plain": [
       "<IPython.core.display.Image object>"
      ]
     },
     "metadata": {},
     "output_type": "display_data"
    },
    {
     "name": "stdout",
     "output_type": "stream",
     "text": [
      "{'online shopping': 0.03938726, 'beach': 0.053616617, 'food': 0.09827911, 'culture and colors': 0.77908736}\n",
      "\n"
     ]
    },
    {
     "data": {
      "text/html": [
       "<img src=\"http://thumbnails.visually.netdna-cdn.com/clean-cities-national-parks-initiative_516c6bb16bc8c.png\" width=\"300\"/>"
      ],
      "text/plain": [
       "<IPython.core.display.Image object>"
      ]
     },
     "metadata": {},
     "output_type": "display_data"
    },
    {
     "name": "stdout",
     "output_type": "stream",
     "text": [
      "{'economy and government': 0.33378297, 'shopping and travel': 0.104005806, 'beach': 0.19939764, 'cars and driving': 0.050918274, 'energy and environment': 0.2735929, 'business and technology': 0.0319388}\n",
      "\n"
     ]
    },
    {
     "data": {
      "text/html": [
       "<img src=\"http://thumbnails.visually.netdna-cdn.com/diversity-of-species-in-the-raintforest_50290a5945b58.jpg\" width=\"300\"/>"
      ],
      "text/plain": [
       "<IPython.core.display.Image object>"
      ]
     },
     "metadata": {},
     "output_type": "display_data"
    },
    {
     "name": "stdout",
     "output_type": "stream",
     "text": [
      "{'work and positivity': 0.25167564, 'body and health': 0.1361572, 'beach': 0.16883065, 'culture and colors': 0.08343986, 'house and home': 0.32580575}\n",
      "\n"
     ]
    },
    {
     "data": {
      "text/html": [
       "<img src=\"http://thumbnails.visually.netdna-cdn.com/anatomy-of-a-wedding-gown_51c3402050877.jpg\" width=\"300\"/>"
      ],
      "text/plain": [
       "<IPython.core.display.Image object>"
      ]
     },
     "metadata": {},
     "output_type": "display_data"
    },
    {
     "name": "stdout",
     "output_type": "stream",
     "text": [
      "{'celebrations, family, and holidays': 0.29364622, 'international world': 0.075117245, 'online shopping': 0.17605394, 'beach': 0.29860955, 'culture and colors': 0.14884107}\n",
      "\n"
     ]
    },
    {
     "data": {
      "text/html": [
       "<img src=\"http://thumbnails.visually.netdna-cdn.com/preventable-deaths_50291187a6896.jpg\" width=\"300\"/>"
      ],
      "text/plain": [
       "<IPython.core.display.Image object>"
      ]
     },
     "metadata": {},
     "output_type": "display_data"
    },
    {
     "name": "stdout",
     "output_type": "stream",
     "text": [
      "{'healthcare': 0.6057542, 'body and health': 0.2775196, 'cars and driving': 0.09978254}\n",
      "\n"
     ]
    },
    {
     "data": {
      "text/html": [
       "<img src=\"http://thumbnails.visually.netdna-cdn.com/grandfather-frost-and-santa-claus_50290f8113beb.jpg\" width=\"300\"/>"
      ],
      "text/plain": [
       "<IPython.core.display.Image object>"
      ]
     },
     "metadata": {},
     "output_type": "display_data"
    },
    {
     "name": "stdout",
     "output_type": "stream",
     "text": [
      "{'celebrations, family, and holidays': 0.17066307, 'international world': 0.079366736, 'marketing': 0.07197133, 'beach': 0.4163786, 'cars and driving': 0.026372736, 'culture and colors': 0.109232835, 'house and home': 0.11419652}\n",
      "\n"
     ]
    },
    {
     "data": {
      "text/html": [
       "<img src=\"http://thumbnails.visually.netdna-cdn.com/31-days-of-refreshingly-chilled-lemonade_5029153eb8c76.png\" width=\"300\"/>"
      ],
      "text/plain": [
       "<IPython.core.display.Image object>"
      ]
     },
     "metadata": {},
     "output_type": "display_data"
    },
    {
     "name": "stdout",
     "output_type": "stream",
     "text": [
      "{'shopping and travel': 0.45445272, 'food': 0.15675187, 'house and home': 0.35948503}\n",
      "\n"
     ]
    },
    {
     "data": {
      "text/html": [
       "<img src=\"http://thumbnails.visually.netdna-cdn.com/why-india-cant-feed-her-people_50290b996c340.jpg\" width=\"300\"/>"
      ],
      "text/plain": [
       "<IPython.core.display.Image object>"
      ]
     },
     "metadata": {},
     "output_type": "display_data"
    },
    {
     "name": "stdout",
     "output_type": "stream",
     "text": [
      "{'healthcare': 0.20891044, 'economy and government': 0.069010235, 'international world': 0.20324707, 'food': 0.22952151, 'energy and environment': 0.20794295, 'house and home': 0.071908325}\n",
      "\n"
     ]
    },
    {
     "data": {
      "text/html": [
       "<img src=\"http://thumbnails.visually.netdna-cdn.com/SustainabilityReport-thumbnail_53d7c1e159d97.png\" width=\"300\"/>"
      ],
      "text/plain": [
       "<IPython.core.display.Image object>"
      ]
     },
     "metadata": {},
     "output_type": "display_data"
    },
    {
     "name": "stdout",
     "output_type": "stream",
     "text": [
      "{'celebrations, family, and holidays': 0.09019075, 'energy and environment': 0.425082, 'business and technology': 0.43750498}\n",
      "\n"
     ]
    },
    {
     "data": {
      "text/html": [
       "<img src=\"http://thumbnails.visually.netdna-cdn.com/how-much-co2-does-the-internet-produce_50290d6d43b74.jpg\" width=\"300\"/>"
      ],
      "text/plain": [
       "<IPython.core.display.Image object>"
      ]
     },
     "metadata": {},
     "output_type": "display_data"
    },
    {
     "name": "stdout",
     "output_type": "stream",
     "text": [
      "{'economy and government': 0.054708652, 'international world': 0.09385316, 'beach': 0.110387, 'mobile phones and devices': 0.034467615, 'energy and environment': 0.6873528}\n",
      "\n"
     ]
    },
    {
     "data": {
      "text/html": [
       "<img src=\"http://thumbnails.visually.netdna-cdn.com/texting-while-driving-statistics--facts_50290ab6860e7.png\" width=\"300\"/>"
      ],
      "text/plain": [
       "<IPython.core.display.Image object>"
      ]
     },
     "metadata": {},
     "output_type": "display_data"
    },
    {
     "name": "stdout",
     "output_type": "stream",
     "text": [
      "{'healthcare': 0.107468955, 'economy and government': 0.13268971, 'mobile phones and devices': 0.13395698, 'cars and driving': 0.5922208, 'culture and colors': 0.022634115}\n",
      "\n"
     ]
    },
    {
     "data": {
      "text/html": [
       "<img src=\"http://thumbnails.visually.netdna-cdn.com/a-geographical-trap-landlocked-developing-countries_50951a6dacde9.jpg\" width=\"300\"/>"
      ],
      "text/plain": [
       "<IPython.core.display.Image object>"
      ]
     },
     "metadata": {},
     "output_type": "display_data"
    },
    {
     "name": "stdout",
     "output_type": "stream",
     "text": [
      "{'healthcare': 0.06913727, 'economy and government': 0.24291153, 'work and positivity': 0.024356289, 'Internet and social media': 0.011977506, 'international world': 0.38779366, 'beach': 0.1665511, 'money and finances': 0.048515275, 'house and home': 0.041939225}\n",
      "\n"
     ]
    }
   ],
   "source": [
    "for url in os.listdir('test'):\n",
    "    \n",
    "    display(Image(url=f'{base}/{url}', width=300))\n",
    "    confidence = {}\n",
    "    for c, prob in lda[common_dictionary.doc2bow(newEnglish[url])]:\n",
    "        confidence[categories[c]] = prob\n",
    "    print(f'{confidence}\\n')"
   ]
  },
  {
   "cell_type": "code",
   "execution_count": null,
   "metadata": {},
   "outputs": [],
   "source": []
  }
 ],
 "metadata": {
  "colab": {
   "include_colab_link": true,
   "name": "6.804.ipynb",
   "provenance": [],
   "version": "0.3.2"
  },
  "kernelspec": {
   "display_name": "Python 3",
   "language": "python",
   "name": "python3"
  },
  "language_info": {
   "codemirror_mode": {
    "name": "ipython",
    "version": 3
   },
   "file_extension": ".py",
   "mimetype": "text/x-python",
   "name": "python",
   "nbconvert_exporter": "python",
   "pygments_lexer": "ipython3",
   "version": "3.6.7"
  }
 },
 "nbformat": 4,
 "nbformat_minor": 1
}
