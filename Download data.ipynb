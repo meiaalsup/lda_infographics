{
 "cells": [
  {
   "cell_type": "code",
   "execution_count": 13,
   "metadata": {},
   "outputs": [],
   "source": [
    "import data_clean_functions as dcf\n",
    "import json\n",
    "import datetime"
   ]
  },
  {
   "cell_type": "code",
   "execution_count": 14,
   "metadata": {},
   "outputs": [
    {
     "data": {
      "text/plain": [
       "650"
      ]
     },
     "execution_count": 14,
     "metadata": {},
     "output_type": "execute_result"
    }
   ],
   "source": [
    "dcf.s3_connect()\n",
    "s3_data = dcf.download_data(\"cocosci-study\")\n",
    "len(s3_data)"
   ]
  },
  {
   "cell_type": "code",
   "execution_count": 15,
   "metadata": {},
   "outputs": [],
   "source": [
    "def print_study_data(data): \n",
    "    data = [val for key, val in data.items() if val['tag'] == 'valid']\n",
    "    [elt.pop('timestamp') for elt in data]\n",
    "    by_subject = {} \n",
    "    for elt in data: \n",
    "        subj = elt['subj_id']\n",
    "        by_subject[subj] = by_subject.get(subj, []) + [elt]\n",
    "    print(\"%d subjects have recorded data\" % len(by_subject))\n",
    "    for subj, vals in by_subject.items(): \n",
    "        print(\"Subj %s\" % subj)\n",
    "        ims = [int(elt['im_id']) for elt in vals]\n",
    "        ims.sort()\n",
    "        print(\"\\t\", ims)\n",
    "    return data "
   ]
  },
  {
   "cell_type": "code",
   "execution_count": 16,
   "metadata": {},
   "outputs": [
    {
     "name": "stdout",
     "output_type": "stream",
     "text": [
      "57 subjects have recorded data\n",
      "Subj 6\n",
      "\t [0, 1, 2, 3, 4, 5, 6, 7, 8, 9, 10, 11]\n",
      "Subj 37\n",
      "\t [0, 1, 2, 3, 4, 5, 6, 7, 8, 9, 10, 11]\n",
      "Subj 9\n",
      "\t [0, 1, 2, 3, 4, 5, 6, 7, 8, 9, 10, 11]\n",
      "Subj 43\n",
      "\t [0, 1, 1, 2, 3, 4, 5, 6, 7, 8, 9, 10, 11]\n",
      "Subj 12\n",
      "\t [0, 0, 1, 1, 2, 2, 3, 3, 4, 4, 5, 5, 6, 6, 7, 7, 8, 8, 9, 9, 10, 10, 11, 11]\n",
      "Subj 11\n",
      "\t [0, 1, 2, 3, 4, 5, 6, 7, 8, 9, 10, 11]\n",
      "Subj 49\n",
      "\t [0, 2, 5, 8, 9]\n",
      "Subj 10\n",
      "\t [0, 1, 2, 3, 4, 5, 6, 7, 8, 9, 10, 11]\n",
      "Subj 40\n",
      "\t [0, 1, 2, 4, 5, 7, 8, 10]\n",
      "Subj 24\n",
      "\t [0, 1, 2, 3, 4, 5, 6, 7, 8, 9, 10, 11]\n",
      "Subj 18\n",
      "\t [0, 1, 2, 3, 4, 5, 6, 7, 8, 9, 10, 10, 11]\n",
      "Subj 60\n",
      "\t [0, 1, 2, 3, 4, 5, 6, 7, 8, 9, 10, 11]\n",
      "Subj 65\n",
      "\t [0, 1, 2, 3, 4, 5, 6, 7, 8, 9, 10, 11]\n",
      "Subj 34\n",
      "\t [0, 1, 2, 3, 4, 5, 6, 7, 8, 9, 10, 11]\n",
      "Subj 35\n",
      "\t [0, 1, 2, 3, 5, 6, 7, 9, 10, 11]\n",
      "Subj 73\n",
      "\t [0, 1, 2, 3, 4, 5, 6, 7, 8, 9, 10, 11]\n",
      "Subj 25\n",
      "\t [0, 1, 2, 3, 4, 5, 6, 7, 8, 9, 10, 11]\n",
      "Subj 42\n",
      "\t [0, 1, 2, 3, 4, 5, 7, 8, 9, 10, 11]\n",
      "Subj 4\n",
      "\t [0, 1, 2, 3, 4, 5, 6, 7, 8, 9, 10, 11]\n",
      "Subj 44\n",
      "\t [0, 1, 2, 3, 4, 5, 6, 7, 8, 9, 10, 11]\n",
      "Subj 27\n",
      "\t [0, 1, 2, 3, 4, 5, 6, 7, 8, 9, 10, 11]\n",
      "Subj 3\n",
      "\t [0, 1, 2, 3, 4, 5, 6, 7, 8, 9, 10, 11]\n",
      "Subj 17\n",
      "\t [0, 1, 2, 3, 4, 5, 6, 7, 8, 9, 10, 11]\n",
      "Subj 8\n",
      "\t [0, 1, 2, 3, 4, 5, 6, 7, 8, 9, 10, 11]\n",
      "Subj 7\n",
      "\t [0, 1, 2, 3, 4, 5, 6, 7, 8, 9, 10, 11]\n",
      "Subj 39\n",
      "\t [0, 1, 2, 3, 4, 5, 6, 7, 8, 9, 10, 11]\n",
      "Subj 2\n",
      "\t [0, 1, 2, 3, 4, 5, 6, 7, 8, 9, 10, 11]\n",
      "Subj 1\n",
      "\t [0, 1, 2, 3, 4, 5, 6, 7, 8, 9, 10, 11]\n",
      "Subj 16\n",
      "\t [0, 1, 2, 3, 4, 5, 6, 7, 8, 9, 10, 11]\n",
      "Subj 64\n",
      "\t [0, 1, 2, 3, 4, 5, 6, 7, 8, 9, 10, 11]\n",
      "Subj 38\n",
      "\t [0, 1, 2, 3, 4, 6, 9]\n",
      "Subj 21\n",
      "\t [0, 1, 2, 2, 3, 4, 5, 6, 7, 8, 9, 10, 11]\n",
      "Subj 5\n",
      "\t [0, 1, 2, 3, 4, 5, 6, 7, 8, 9, 10, 11]\n",
      "Subj 20\n",
      "\t [0, 1, 2, 3, 4, 5, 6, 7, 8, 9, 10, 11]\n",
      "Subj 22\n",
      "\t [0, 1, 2, 4, 5, 6, 7, 8, 9, 10, 11]\n",
      "Subj 19\n",
      "\t [1, 2, 3, 4, 6, 8, 9, 11]\n",
      "Subj 50\n",
      "\t [0, 1, 2, 3, 4, 5, 6, 7, 8, 9, 10, 11]\n",
      "Subj 29\n",
      "\t [0, 1, 2, 3, 4, 6, 7, 8, 9, 10, 11]\n",
      "Subj 47\n",
      "\t [0, 1, 2, 3, 4, 5, 6, 7, 8, 9, 10, 11]\n",
      "Subj 14\n",
      "\t [0, 1, 2, 3, 4, 5, 6, 7, 8, 9, 10, 11]\n",
      "Subj 57\n",
      "\t [0, 1, 2, 3, 4, 5, 6, 7, 8, 9, 10, 11]\n",
      "Subj 48\n",
      "\t [0, 1, 2, 3, 4, 5, 6, 7, 8, 9, 10, 11]\n",
      "Subj 45\n",
      "\t [0, 1, 2, 4, 6, 7, 8, 9, 10, 11]\n",
      "Subj 56\n",
      "\t [0, 1, 2, 3, 4, 5, 6, 7, 8, 9, 10, 11]\n",
      "Subj 0\n",
      "\t [0, 1, 2, 3, 4, 5, 6, 7, 8, 9, 10, 11]\n",
      "Subj 55\n",
      "\t [0, 1, 2, 3, 4, 5, 6, 7, 8, 9, 10, 11]\n",
      "Subj 13\n",
      "\t [0, 1, 2, 3, 4, 5, 6, 7, 8, 9, 10, 11]\n",
      "Subj 26\n",
      "\t [0, 1, 2, 4, 5, 6, 7, 8, 9, 10, 11]\n",
      "Subj 23\n",
      "\t [0, 1, 2, 3, 4, 5, 6, 7, 8, 9, 10, 11]\n",
      "Subj 46\n",
      "\t [0, 1, 2, 3, 4, 5, 6, 7, 8, 9, 10, 11]\n",
      "Subj 41\n",
      "\t [0, 1, 2, 3, 4, 5, 6, 7, 8, 9, 10, 11]\n",
      "Subj 36\n",
      "\t [0, 0, 1, 2, 3, 4, 5, 6, 7, 8, 9, 10, 11]\n",
      "Subj 51\n",
      "\t [0, 1, 2, 3, 4, 5, 6, 7, 8, 9, 10, 11]\n",
      "Subj 62\n",
      "\t [0, 1, 2, 3, 5, 6, 8, 9, 10, 11]\n",
      "Subj 30\n",
      "\t [0, 1, 2, 3, 4, 5, 6, 7, 8, 9, 10, 11]\n",
      "Subj 28\n",
      "\t [8]\n",
      "Subj 58\n",
      "\t [6]\n",
      "648\n"
     ]
    }
   ],
   "source": [
    "filtered_data = print_study_data(s3_data)\n",
    "print(len(filtered_data))\n",
    "with open('study_data.json', 'w') as outfile: \n",
    "    json.dump(filtered_data, outfile)"
   ]
  },
  {
   "cell_type": "code",
   "execution_count": 25,
   "metadata": {},
   "outputs": [
    {
     "name": "stdout",
     "output_type": "stream",
     "text": [
      "gt []\n",
      "lt 194\n",
      "s12 12\n"
     ]
    }
   ],
   "source": [
    "gt = []\n",
    "lt = 0\n",
    "s12 = 0\n",
    "for key, val in s3_data.items(): \n",
    "    if val['timestamp'].replace(tzinfo=None) < datetime.datetime(year=2018, month=12,day=11, hour=12).replace(tzinfo=None) and val['subj_id'] == '12': \n",
    "        val['subj_id'] = 15\n",
    "        #gt.append(val)\n",
    "    else: \n",
    "        lt += 1\n",
    "    if val['subj_id'] == '12':\n",
    "        s12 += 1\n",
    "    val.pop('timestamp')\n",
    "        \n",
    "print(\"gt\", gt)\n",
    "print(\"lt\", lt)\n",
    "print(\"s12\", s12)"
   ]
  },
  {
   "cell_type": "code",
   "execution_count": 26,
   "metadata": {},
   "outputs": [
    {
     "name": "stdout",
     "output_type": "stream",
     "text": [
      "16 subjects have recorded data\n",
      "Subj 6\n",
      "\t [0, 1, 2, 3, 4, 5, 6, 7, 8, 9, 10, 11]\n",
      "Subj 9\n",
      "\t [0, 1, 2, 3, 4, 5, 6, 7, 8, 9, 10, 11]\n",
      "Subj 12\n",
      "\t [0, 1, 2, 3, 4, 5, 6, 7, 8, 9, 10, 11]\n",
      "Subj 11\n",
      "\t [0, 1, 2, 3, 4, 5, 6, 7, 8, 9, 10, 11]\n",
      "Subj 10\n",
      "\t [0, 1, 2, 3, 4, 5, 6, 7, 8, 9, 10, 11]\n",
      "Subj 15\n",
      "\t [0, 1, 2, 3, 4, 5, 6, 7, 8, 9, 10, 11]\n",
      "Subj 4\n",
      "\t [0, 1, 2, 3, 4, 5, 6, 7, 8, 9, 10, 11]\n",
      "Subj 3\n",
      "\t [0, 1, 2, 3, 4, 5, 6, 7, 8, 9, 10, 11]\n",
      "Subj 8\n",
      "\t [0, 1, 2, 3, 4, 5, 6, 7, 8, 9, 10, 11]\n",
      "Subj 7\n",
      "\t [0, 1, 2, 3, 4, 5, 6, 7, 8, 9, 10, 11]\n",
      "Subj 2\n",
      "\t [0, 1, 2, 3, 4, 5, 6, 7, 8, 9, 10, 11]\n",
      "Subj 1\n",
      "\t [0, 1, 2, 3, 4, 5, 6, 7, 8, 9, 10, 11]\n",
      "Subj 5\n",
      "\t [0, 1, 2, 3, 4, 5, 6, 7, 8, 9, 10, 11]\n",
      "Subj 14\n",
      "\t [0, 1, 2, 3, 4, 5, 6, 7, 8, 9, 10, 11]\n",
      "Subj 0\n",
      "\t [0, 1, 2, 3, 4, 5, 6, 7, 8, 9, 10, 11]\n",
      "Subj 13\n",
      "\t [0, 1, 2, 3, 4, 5, 6, 7, 8, 9, 10, 11]\n"
     ]
    }
   ],
   "source": [
    "print_study_data(s3_data)\n",
    "with open('study_data.json', 'w') as outfile: \n",
    "    json.dump(filtered_data, outfile)"
   ]
  },
  {
   "cell_type": "code",
   "execution_count": null,
   "metadata": {},
   "outputs": [],
   "source": [
    "# subject 4 was Max \n",
    "# subject 7 was Sarah \n",
    "# subject 9 is Yida "
   ]
  }
 ],
 "metadata": {
  "kernelspec": {
   "display_name": "Python 3",
   "language": "python",
   "name": "python3"
  },
  "language_info": {
   "codemirror_mode": {
    "name": "ipython",
    "version": 3
   },
   "file_extension": ".py",
   "mimetype": "text/x-python",
   "name": "python",
   "nbconvert_exporter": "python",
   "pygments_lexer": "ipython3",
   "version": "3.6.7"
  }
 },
 "nbformat": 4,
 "nbformat_minor": 2
}
