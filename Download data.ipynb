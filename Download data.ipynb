{
 "cells": [
  {
   "cell_type": "code",
   "execution_count": 59,
   "metadata": {},
   "outputs": [],
   "source": [
    "import data_clean_functions as dcf\n",
    "import json"
   ]
  },
  {
   "cell_type": "code",
   "execution_count": 149,
   "metadata": {},
   "outputs": [
    {
     "data": {
      "text/plain": [
       "122"
      ]
     },
     "execution_count": 149,
     "metadata": {},
     "output_type": "execute_result"
    }
   ],
   "source": [
    "dcf.s3_connect()\n",
    "s3_data = dcf.download_data(\"cocosci-study\")\n",
    "len(s3_data)"
   ]
  },
  {
   "cell_type": "code",
   "execution_count": 150,
   "metadata": {},
   "outputs": [],
   "source": [
    "def print_study_data(data): \n",
    "    data = [val for key, val in data.items() if val['tag'] == 'valid']\n",
    "    by_subject = {} \n",
    "    for elt in data: \n",
    "        subj = elt['subj_id']\n",
    "        by_subject[subj] = by_subject.get(subj, []) + [elt]\n",
    "    print(\"%d subjects have recorded data\" % len(by_subject))\n",
    "    for subj, vals in by_subject.items(): \n",
    "        print(\"Subj %s\" % subj)\n",
    "        ims = [int(elt['im_id']) for elt in vals]\n",
    "        ims.sort()\n",
    "        print(\"\\t\", ims)\n",
    "    return data "
   ]
  },
  {
   "cell_type": "code",
   "execution_count": 151,
   "metadata": {},
   "outputs": [
    {
     "name": "stdout",
     "output_type": "stream",
     "text": [
      "10 subjects have recorded data\n",
      "Subj 6\n",
      "\t [0, 1, 2, 3, 4, 5, 6, 7, 8, 9, 10, 11]\n",
      "Subj 9\n",
      "\t [0, 1, 2, 3, 4, 5, 6, 7, 8, 9, 10, 11]\n",
      "Subj 4\n",
      "\t [0, 1, 2, 3, 4, 5, 6, 7, 8, 9, 10, 11]\n",
      "Subj 3\n",
      "\t [0, 1, 2, 3, 4, 5, 6, 7, 8, 9, 10, 11]\n",
      "Subj 8\n",
      "\t [0, 1, 2, 3, 4, 5, 6, 7, 8, 9, 10, 11]\n",
      "Subj 7\n",
      "\t [0, 1, 2, 3, 4, 5, 6, 7, 8, 9, 10, 11]\n",
      "Subj 2\n",
      "\t [0, 1, 2, 3, 4, 5, 6, 7, 8, 9, 10, 11]\n",
      "Subj 1\n",
      "\t [0, 1, 2, 3, 4, 5, 6, 7, 8, 9, 10, 11]\n",
      "Subj 5\n",
      "\t [0, 1, 2, 3, 4, 5, 6, 7, 8, 9, 10, 11]\n",
      "Subj 0\n",
      "\t [0, 1, 2, 3, 4, 5, 6, 7, 8, 9, 10, 11]\n",
      "120\n"
     ]
    }
   ],
   "source": [
    "filtered_data = print_study_data(s3_data)\n",
    "print(len(filtered_data))\n",
    "with open('study_data.json', 'w') as outfile: \n",
    "    json.dump(filtered_data, outfile)"
   ]
  },
  {
   "cell_type": "code",
   "execution_count": null,
   "metadata": {},
   "outputs": [],
   "source": []
  },
  {
   "cell_type": "code",
   "execution_count": null,
   "metadata": {},
   "outputs": [],
   "source": [
    "# subject 4 was Max \n",
    "# subject 7 was Sarah \n",
    "# subject 9 is Yida "
   ]
  }
 ],
 "metadata": {
  "kernelspec": {
   "display_name": "Python 3",
   "language": "python",
   "name": "python3"
  },
  "language_info": {
   "codemirror_mode": {
    "name": "ipython",
    "version": 3
   },
   "file_extension": ".py",
   "mimetype": "text/x-python",
   "name": "python",
   "nbconvert_exporter": "python",
   "pygments_lexer": "ipython3",
   "version": "3.6.7"
  }
 },
 "nbformat": 4,
 "nbformat_minor": 2
}
