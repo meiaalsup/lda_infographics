{
 "cells": [
  {
   "cell_type": "markdown",
   "metadata": {
    "colab_type": "text",
    "id": "o7C46aXQ8mXq"
   },
   "source": [
    "# 6.804 Final Project\n",
    "\n",
    "Meia Alsup, Sravya Bhamidipati, Anelise Newman"
   ]
  },
  {
   "cell_type": "code",
   "execution_count": 1,
   "metadata": {
    "colab": {},
    "colab_type": "code",
    "id": "hcUwnbva74ov"
   },
   "outputs": [],
   "source": [
    "from string import digits\n",
    "import json\n",
    "import pickle as pkl\n",
    "import numpy as np\n",
    "import pandas as pd\n",
    "import matplotlib.pyplot as plt\n",
    "import os\n",
    "from random import randrange\n",
    "\n",
    "from IPython.display import Image, display\n",
    "from IPython.core.display import HTML \n",
    "import urllib.request as request\n",
    "\n",
    "from gensim.corpora.dictionary import Dictionary\n",
    "from gensim.models import LdaModel\n",
    "from gensim.parsing.preprocessing import STOPWORDS\n",
    "from nltk.stem import WordNetLemmatizer, SnowballStemmer\n",
    "from nltk.stem.porter import *\n",
    "from nltk.corpus import wordnet\n",
    "import nltk\n"
   ]
  },
  {
   "cell_type": "code",
   "execution_count": 2,
   "metadata": {},
   "outputs": [],
   "source": [
    " #ocr = pkl.load(open('raw_ocr_output.pickle','rb'))\n",
    "#less_ocr = {key: ocr[key] for i, key in enumerate(ocr) if i < 100}\n",
    "#less_ocr"
   ]
  },
  {
   "cell_type": "code",
   "execution_count": 3,
   "metadata": {},
   "outputs": [],
   "source": [
    "#f = open('icon_annotations_testing.pickle','rb')\n",
    "#icons = pkl.load(f)\n",
    "#f.close()"
   ]
  },
  {
   "cell_type": "markdown",
   "metadata": {},
   "source": [
    "## Clean input to just English words\n",
    "\n"
   ]
  },
  {
   "cell_type": "code",
   "execution_count": 4,
   "metadata": {
    "colab": {},
    "colab_type": "code",
    "id": "yOPDW6QT8dTe"
   },
   "outputs": [
    {
     "name": "stdout",
     "output_type": "stream",
     "text": [
      "We have extracted words from 62361 infographics.\n"
     ]
    }
   ],
   "source": [
    "f = open('google_text_extraction_output.pckl','rb')\n",
    "infographic_name_to_words = pkl.load(f)\n",
    "f.close()\n",
    "\n",
    "print('We have extracted words from %d infographics.'%len(infographic_name_to_words))"
   ]
  },
  {
   "cell_type": "code",
   "execution_count": 5,
   "metadata": {},
   "outputs": [],
   "source": [
    "def contains_english(set_of_words):\n",
    "    english = set(['the', 'she', 'different', 'time', 'and', 'client', 'sports', 'grammar', 'family', 'report'])\n",
    "    spanish = set(['el', 'es', 'cuando', 'esta', 'malo', 'que', 'tiene', 'para'])\n",
    "    if bool(set(set_of_words) & spanish):\n",
    "        return False\n",
    "    if bool(set(set_of_words) & english):\n",
    "        return True\n",
    "    return False"
   ]
  },
  {
   "cell_type": "code",
   "execution_count": 6,
   "metadata": {},
   "outputs": [
    {
     "data": {
      "text/plain": [
       "46952"
      ]
     },
     "execution_count": 6,
     "metadata": {},
     "output_type": "execute_result"
    }
   ],
   "source": [
    "english  = {key: val for key, val in infographic_name_to_words.items() if contains_english(val)}\n",
    "len(english)"
   ]
  },
  {
   "cell_type": "code",
   "execution_count": 7,
   "metadata": {},
   "outputs": [],
   "source": [
    "json.dump(english, open('filtered.json', 'w'))\n",
    "json.dump([key for key, val in english.items()], open('filtered_keys.json', 'w'))"
   ]
  },
  {
   "cell_type": "code",
   "execution_count": 10,
   "metadata": {},
   "outputs": [],
   "source": [
    "newEnglish = {}\n",
    "newList = []\n",
    "stemmer = PorterStemmer()\n",
    "for url, wordList in english.items():\n",
    "    thisList = []\n",
    "    for word in wordList:\n",
    "        if len(word) > 2 and word.isalpha() and word not in STOPWORDS and wordnet.synsets(word):\n",
    "            thisList.append(word.lower())\n",
    "            #thisList.append(stemmer.stem(WordNetLemmatizer().lemmatize(word.lower(), pos='v')))\n",
    "    newList.append(thisList)\n",
    "    newEnglish[url] = thisList"
   ]
  },
  {
   "cell_type": "code",
   "execution_count": null,
   "metadata": {
    "colab": {},
    "colab_type": "code",
    "id": "OWx81Nf-8gV_"
   },
   "outputs": [],
   "source": [
    "NUM_TOPICS = 20"
   ]
  },
  {
   "cell_type": "code",
   "execution_count": 20,
   "metadata": {},
   "outputs": [],
   "source": [
    "# Create a corpus from a list of texts\n",
    "common_dictionary = Dictionary(newList)\n",
    "common_dictionary.filter_extremes(no_below=15, no_above=0.5, keep_n=10000)\n",
    "\n",
    "common_corpus = [common_dictionary.doc2bow(text) for text in newList]\n",
    "# Train the model on the corpus.\n",
    "id2token = {val:key for key, val in common_dictionary.token2id.items()}"
   ]
  },
  {
   "cell_type": "code",
   "execution_count": null,
   "metadata": {},
   "outputs": [],
   "source": [
    "# Train the model on the corpus.\n",
    "#lda = LdaModel(common_corpus, num_topics=NUM_TOPICS)"
   ]
  },
  {
   "cell_type": "code",
   "execution_count": null,
   "metadata": {},
   "outputs": [],
   "source": [
    "#for i in range(NUM_TOPICS):\n",
    "#    terms = lda.get_topic_terms(i, 20)\n",
    "#    print(f'Topic number {i}')\n",
    "#    val = {id2token[t[0]]: t[1] for t in terms}\n",
    "#    #print(f'Top 20 terms: {val}')\n",
    "#    print(f'Top 20 terms: {val.keys()}')"
   ]
  },
  {
   "cell_type": "code",
   "execution_count": 43,
   "metadata": {},
   "outputs": [],
   "source": [
    "#saved = lda.save('saved_lda_15_topics')"
   ]
  },
  {
   "cell_type": "markdown",
   "metadata": {},
   "source": [
    "## Intersction with infographics that have labeled bounding boxes"
   ]
  },
  {
   "cell_type": "code",
   "execution_count": 11,
   "metadata": {},
   "outputs": [],
   "source": [
    "# annotations from task where participants marked bounding boxes around all icons on an infographic\n",
    "icon_dict = pkl.load(open( \"icon_annotations_all.pickle\", \"rb\") )\n",
    "icons_english  = set(icon_dict.keys())"
   ]
  },
  {
   "cell_type": "code",
   "execution_count": 12,
   "metadata": {},
   "outputs": [],
   "source": [
    "base='http://thumbnails.visually.netdna-cdn.com'"
   ]
  },
  {
   "cell_type": "code",
   "execution_count": 13,
   "metadata": {},
   "outputs": [],
   "source": [
    "intersection = set([url_ for url_ in english.keys() if url_ in icons_english])"
   ]
  },
  {
   "cell_type": "code",
   "execution_count": 14,
   "metadata": {},
   "outputs": [
    {
     "data": {
      "text/plain": [
       "1079"
      ]
     },
     "execution_count": 14,
     "metadata": {},
     "output_type": "execute_result"
    }
   ],
   "source": [
    "len(intersection)"
   ]
  },
  {
   "cell_type": "code",
   "execution_count": null,
   "metadata": {},
   "outputs": [],
   "source": [
    "for url_ in intersection:\n",
    "    #display(Image(url=f'{base}/{url_}'))\n",
    "    request.urlretrieve(f'{base}/{url_}', f'images/{url_}')"
   ]
  },
  {
   "cell_type": "markdown",
   "metadata": {},
   "source": [
    "## See category labels for chosen inforgraphics\n"
   ]
  },
  {
   "cell_type": "code",
   "execution_count": 17,
   "metadata": {},
   "outputs": [],
   "source": [
    "lda = LdaModel.load('ldas/saved_lda_20_topics')"
   ]
  },
  {
   "cell_type": "code",
   "execution_count": 18,
   "metadata": {},
   "outputs": [],
   "source": [
    "categories = {\n",
    "    0: 'healthcare', # combine\n",
    "    1: 'economy and government',\n",
    "    2: 'work and positivity',  #gon3\n",
    "    3: 'celebrations and family',\n",
    "    4: 'Internet and social media',\n",
    "    5: 'international world',\n",
    "    6: 'body and health',  #combine into 0\n",
    "    7: 'shopping and travel',\n",
    "    8: 'online shopping',\n",
    "    9: 'marketing',\n",
    "    10: 'beach',  # gone\n",
    "    11: 'education',\n",
    "    12: 'mobile phones and devices',\n",
    "    13: 'food',\n",
    "    14: 'cars and driving',\n",
    "    15: 'culture and colors',\n",
    "    16: 'money and finances',\n",
    "    17: 'energy and environment',\n",
    "    18: 'house and home',\n",
    "    19: 'business and technology',\n",
    "}\n",
    "category_to_id = {v: k for k, v in categories.items()}"
   ]
  },
  {
   "cell_type": "code",
   "execution_count": 41,
   "metadata": {},
   "outputs": [],
   "source": [
    "infographics = json.load(open('study_infographics.json'))\n",
    "infographic_id_to_url_map = {i: entry['url'] for i , entry in enumerate(infographics)}\n",
    "url_to_id_map = {v:k for k,v in infographic_id_to_url_map.items()}\n",
    "json.dump(infographic_id_to_url_map, open('infographic_id_to_url_map.json', 'w'))\n",
    "json.dump(url_to_id_map, open('infographic_url_to_id_map.json', 'w'))"
   ]
  },
  {
   "cell_type": "code",
   "execution_count": 43,
   "metadata": {},
   "outputs": [
    {
     "data": {
      "text/plain": [
       "{'the-facts-about-heart-disease_50290aaf3b5fd.jpg': 0,\n",
       " 'the-egreen-society-how-britain-can-recycle-and-be-more-responsible_535a49b55ca1f.jpg': 1,\n",
       " 'super-dad_502910d3ad406.png': 2,\n",
       " 'hunters-vs-farmers-sales-personas_51e5924c2f823.png': 3,\n",
       " 'calories-in-wine-vs-beer_50982977dc9eb.jpg': 4,\n",
       " 'interesting-facts-on-car-crashes_509c3e82230cf.jpg': 5,\n",
       " 'telecom-present--the-future_530b60f629fab.jpg': 6,\n",
       " 'anatomy-of-a-wedding-gown_51c3402050877.jpg': 7,\n",
       " '31-days-of-refreshingly-chilled-lemonade_5029153eb8c76.png': 8,\n",
       " 'why-india-cant-feed-her-people_50290b996c340.jpg': 9,\n",
       " 'texting-while-driving-statistics--facts_50290ab6860e7.png': 10,\n",
       " 'a-geographical-trap-landlocked-developing-countries_50951a6dacde9.jpg': 11}"
      ]
     },
     "execution_count": 43,
     "metadata": {},
     "output_type": "execute_result"
    }
   ],
   "source": [
    "url_to_id_map\n"
   ]
  },
  {
   "cell_type": "code",
   "execution_count": 57,
   "metadata": {},
   "outputs": [],
   "source": [
    "confidences = {}\n",
    "for url in os.listdir('test/final'):\n",
    "    \n",
    "    #display(Image(url=f'{base}/{url}', width=300))\n",
    "    confidence = {c: prob for c, prob in lda[common_dictionary.doc2bow(newEnglish[url])] if c not in [2,10]}\n",
    "    confidence[0] = confidence.get(0, 0) + confidence.get(6, 0)\n",
    "    if 6 in confidence:\n",
    "        del confidence[6]\n",
    "    top = sorted(confidence.items(), key=lambda x: (x[1]), reverse=True)[:5]\n",
    "    confidences[url_to_id_map[url]] = {key[0]: str(confidence[key[0]]) for key in top}\n",
    "json.dump(confidences, open('text_distribution.json', 'w'))"
   ]
  },
  {
   "cell_type": "code",
   "execution_count": 90,
   "metadata": {},
   "outputs": [
    {
     "data": {
      "text/plain": [
       "[{'categories': [[0, 'healthcare'], [18, 'house and home'], [13, 'food']],\n",
       "  'url': 'the-facts-about-heart-disease_50290aaf3b5fd.jpg'},\n",
       " {'categories': [[0, 'healthcare'],\n",
       "   [3, 'celebrations and family'],\n",
       "   [1, 'economy and government'],\n",
       "   [13, 'food']],\n",
       "  'url': 'super-dad_502910d3ad406.png'},\n",
       " {'categories': [[19, 'business and technology'],\n",
       "   [7, 'shopping and travel'],\n",
       "   [8, 'online shopping'],\n",
       "   [9, 'marketing']],\n",
       "  'url': 'hunters-vs-farmers-sales-personas_51e5924c2f823.png'},\n",
       " {'categories': [[13, 'food'],\n",
       "   [3, 'celebrations and family'],\n",
       "   [0, 'healthcare']],\n",
       "  'url': 'calories-in-wine-vs-beer_50982977dc9eb.jpg'},\n",
       " {'categories': [[19, 'business and technology'],\n",
       "   [12, 'mobile phones and devices'],\n",
       "   [5, 'international world'],\n",
       "   [8, 'online shopping'],\n",
       "   [7, 'shopping and travel']],\n",
       "  'url': 'telecom-present--the-future_530b60f629fab.jpg'},\n",
       " {'categories': [[1, 'economy and government'],\n",
       "   [17, 'energy and environment'],\n",
       "   [7, 'shopping and travel'],\n",
       "   [14, 'cars and driving']],\n",
       "  'url': 'clean-cities-national-parks-initiative_516c6bb16bc8c.png'},\n",
       " {'categories': [[3, 'celebrations and family'],\n",
       "   [8, 'online shopping'],\n",
       "   [15, 'culture and colors'],\n",
       "   [5, 'international world']],\n",
       "  'url': 'anatomy-of-a-wedding-gown_51c3402050877.jpg'},\n",
       " {'categories': [[7, 'shopping and travel'],\n",
       "   [18, 'house and home'],\n",
       "   [13, 'food']],\n",
       "  'url': '31-days-of-refreshingly-chilled-lemonade_5029153eb8c76.png'},\n",
       " {'categories': [[13, 'food'],\n",
       "   [0, 'healthcare'],\n",
       "   [17, 'energy and environment'],\n",
       "   [5, 'international world'],\n",
       "   [18, 'house and home']],\n",
       "  'url': 'why-india-cant-feed-her-people_50290b996c340.jpg'},\n",
       " {'categories': [[17, 'energy and environment'],\n",
       "   [5, 'international world'],\n",
       "   [1, 'economy and government'],\n",
       "   [12, 'mobile phones and devices']],\n",
       "  'url': 'how-much-co2-does-the-internet-produce_50290d6d43b74.jpg'},\n",
       " {'categories': [[14, 'cars and driving'],\n",
       "   [12, 'mobile phones and devices'],\n",
       "   [1, 'economy and government'],\n",
       "   [0, 'healthcare'],\n",
       "   [15, 'culture and colors']],\n",
       "  'url': 'texting-while-driving-statistics--facts_50290ab6860e7.png'},\n",
       " {'categories': [[5, 'international world'],\n",
       "   [1, 'economy and government'],\n",
       "   [0, 'healthcare'],\n",
       "   [16, 'money and finances']],\n",
       "  'url': 'a-geographical-trap-landlocked-developing-countries_50951a6dacde9.jpg'}]"
      ]
     },
     "execution_count": 90,
     "metadata": {},
     "output_type": "execute_result"
    }
   ],
   "source": [
    "image_categories = []\n",
    "for url in os.listdir('test/final'):\n",
    "    \n",
    "    #display(Image(url=f'{base}/{url}', width=300))\n",
    "    confidence = {}\n",
    "    for c, prob in lda[common_dictionary.doc2bow(newEnglish[url])]:\n",
    "        confidence[categories[c]] = prob\n",
    "    confidence = sorted(confidence.items(), key=lambda x: (x[1],x[0]), reverse=True)\n",
    "    #print(url, confidence)\n",
    "    image_categories.append({\n",
    "        \"categories\": [\n",
    "            [category_to_id[cat[0]],\n",
    "             cat[0]]\n",
    "            for cat in confidence[:5] if category_to_id[cat[0]] not in [2, 6, 10]\n",
    "        ],\n",
    "        \"url\": url\n",
    "    })\n",
    "image_categories"
   ]
  },
  {
   "cell_type": "code",
   "execution_count": 97,
   "metadata": {},
   "outputs": [
    {
     "data": {
      "text/plain": [
       "[{'categories': [[0, 'health'],\n",
       "   [18, 'house and home'],\n",
       "   [13, 'food'],\n",
       "   [7, 'shopping and travel'],\n",
       "   [9, 'marketing']],\n",
       "  'url': 'the-facts-about-heart-disease_50290aaf3b5fd.jpg'},\n",
       " {'categories': [[0, 'health'],\n",
       "   [3, 'celebrations and family'],\n",
       "   [1, 'economy and government'],\n",
       "   [13, 'food'],\n",
       "   [17, 'energy and environment']],\n",
       "  'url': 'super-dad_502910d3ad406.png'},\n",
       " {'categories': [[19, 'business and technology'],\n",
       "   [7, 'shopping and travel'],\n",
       "   [8, 'online shopping'],\n",
       "   [9, 'marketing'],\n",
       "   [5, 'international world']],\n",
       "  'url': 'hunters-vs-farmers-sales-personas_51e5924c2f823.png'},\n",
       " {'categories': [[13, 'food'],\n",
       "   [3, 'celebrations and family'],\n",
       "   [0, 'health'],\n",
       "   [14, 'cars and driving'],\n",
       "   [7, 'shopping and travel']],\n",
       "  'url': 'calories-in-wine-vs-beer_50982977dc9eb.jpg'},\n",
       " {'categories': [[19, 'business and technology'],\n",
       "   [12, 'mobile phones and devices'],\n",
       "   [5, 'international world'],\n",
       "   [8, 'online shopping'],\n",
       "   [7, 'shopping and travel']],\n",
       "  'url': 'telecom-present--the-future_530b60f629fab.jpg'},\n",
       " {'categories': [[1, 'economy and government'],\n",
       "   [17, 'energy and environment'],\n",
       "   [7, 'shopping and travel'],\n",
       "   [14, 'cars and driving'],\n",
       "   [18, 'house and home']],\n",
       "  'url': 'clean-cities-national-parks-initiative_516c6bb16bc8c.png'},\n",
       " {'categories': [[3, 'celebrations and family'],\n",
       "   [8, 'online shopping'],\n",
       "   [15, 'culture and colors'],\n",
       "   [5, 'international world'],\n",
       "   [17, 'energy and environment']],\n",
       "  'url': 'anatomy-of-a-wedding-gown_51c3402050877.jpg'},\n",
       " {'categories': [[7, 'shopping and travel'],\n",
       "   [18, 'house and home'],\n",
       "   [13, 'food'],\n",
       "   [11, 'education'],\n",
       "   [15, 'culture and colors']],\n",
       "  'url': '31-days-of-refreshingly-chilled-lemonade_5029153eb8c76.png'},\n",
       " {'categories': [[13, 'food'],\n",
       "   [0, 'health'],\n",
       "   [17, 'energy and environment'],\n",
       "   [5, 'international world'],\n",
       "   [18, 'house and home']],\n",
       "  'url': 'why-india-cant-feed-her-people_50290b996c340.jpg'},\n",
       " {'categories': [[17, 'energy and environment'],\n",
       "   [5, 'international world'],\n",
       "   [1, 'economy and government'],\n",
       "   [12, 'mobile phones and devices'],\n",
       "   [18, 'house and home']],\n",
       "  'url': 'how-much-co2-does-the-internet-produce_50290d6d43b74.jpg'},\n",
       " {'categories': [[14, 'cars and driving'],\n",
       "   [12, 'mobile phones and devices'],\n",
       "   [1, 'economy and government'],\n",
       "   [0, 'health'],\n",
       "   [15, 'culture and colors']],\n",
       "  'url': 'texting-while-driving-statistics--facts_50290ab6860e7.png'},\n",
       " {'categories': [[5, 'international world'],\n",
       "   [1, 'economy and government'],\n",
       "   [0, 'health'],\n",
       "   [16, 'money and finances'],\n",
       "   [14, 'cars and driving']],\n",
       "  'url': 'a-geographical-trap-landlocked-developing-countries_50951a6dacde9.jpg'}]"
      ]
     },
     "execution_count": 97,
     "metadata": {},
     "output_type": "execute_result"
    }
   ],
   "source": [
    "cleaned = []\n",
    "for entry in image_categories:\n",
    "    clean_categories = []\n",
    "    for category in entry['categories']:\n",
    "        if category[0] == 0:\n",
    "            clean_categories.append([0, 'health'])\n",
    "        else:\n",
    "            clean_categories.append(category)\n",
    "    while len(clean_categories) < 5:\n",
    "        cur_categories = [x[0] for x in clean_categories]\n",
    "        i = 2\n",
    "        while i in [2, 6, 10] or i in cur_categories:\n",
    "            i = randrange(1, 19)\n",
    "        clean_categories.append([i, categories[i]])    \n",
    "        \n",
    "    cleaned.append({\n",
    "        'categories': clean_categories,\n",
    "        'url': entry['url']\n",
    "    }\n",
    "cleaned"
   ]
  },
  {
   "cell_type": "code",
   "execution_count": null,
   "metadata": {},
   "outputs": [],
   "source": []
  }
 ],
 "metadata": {
  "colab": {
   "include_colab_link": true,
   "name": "6.804.ipynb",
   "provenance": [],
   "version": "0.3.2"
  },
  "kernelspec": {
   "display_name": "Python 3",
   "language": "python",
   "name": "python3"
  },
  "language_info": {
   "codemirror_mode": {
    "name": "ipython",
    "version": 3
   },
   "file_extension": ".py",
   "mimetype": "text/x-python",
   "name": "python",
   "nbconvert_exporter": "python",
   "pygments_lexer": "ipython3",
   "version": "3.6.7"
  }
 },
 "nbformat": 4,
 "nbformat_minor": 1
}
