{
 "cells": [
  {
   "cell_type": "markdown",
   "metadata": {
    "colab_type": "text",
    "id": "o7C46aXQ8mXq"
   },
   "source": [
    "# 6.804 Final Project\n",
    "\n",
    "Meia Alsup, Sravya Bhamidipati, Anelise Newman"
   ]
  },
  {
   "cell_type": "code",
   "execution_count": 95,
   "metadata": {
    "colab": {},
    "colab_type": "code",
    "id": "hcUwnbva74ov"
   },
   "outputs": [],
   "source": [
    "from string import digits\n",
    "import json\n",
    "import pickle as pkl\n",
    "import numpy as np\n",
    "import pandas as pd\n",
    "import matplotlib.pyplot as plt\n",
    "import os\n",
    "from random import randrange\n",
    "\n",
    "from IPython.display import Image, display\n",
    "from IPython.core.display import HTML \n",
    "import urllib.request as request\n",
    "\n",
    "from gensim.corpora.dictionary import Dictionary\n",
    "from gensim.models import LdaModel\n",
    "from gensim.parsing.preprocessing import STOPWORDS\n",
    "from nltk.stem import WordNetLemmatizer, SnowballStemmer\n",
    "from nltk.stem.porter import *\n",
    "from nltk.corpus import wordnet\n",
    "import nltk\n"
   ]
  },
  {
   "cell_type": "code",
   "execution_count": 2,
   "metadata": {},
   "outputs": [],
   "source": [
    " #ocr = pkl.load(open('raw_ocr_output.pickle','rb'))\n",
    "#less_ocr = {key: ocr[key] for i, key in enumerate(ocr) if i < 100}\n",
    "#less_ocr"
   ]
  },
  {
   "cell_type": "code",
   "execution_count": 4,
   "metadata": {},
   "outputs": [],
   "source": [
    "#f = open('icon_annotations_testing.pickle','rb')\n",
    "#icons = pkl.load(f)\n",
    "#f.close()"
   ]
  },
  {
   "cell_type": "markdown",
   "metadata": {},
   "source": [
    "## Clean input to just English words\n",
    "\n"
   ]
  },
  {
   "cell_type": "code",
   "execution_count": 10,
   "metadata": {
    "colab": {},
    "colab_type": "code",
    "id": "yOPDW6QT8dTe"
   },
   "outputs": [
    {
     "name": "stdout",
     "output_type": "stream",
     "text": [
      "We have extracted words from 62361 infographics.\n"
     ]
    }
   ],
   "source": [
    "f = open('google_text_extraction_output.pckl','rb')\n",
    "infographic_name_to_words = pkl.load(f)\n",
    "f.close()\n",
    "\n",
    "print('We have extracted words from %d infographics.'%len(infographic_name_to_words))"
   ]
  },
  {
   "cell_type": "code",
   "execution_count": 11,
   "metadata": {},
   "outputs": [],
   "source": [
    "def contains_english(set_of_words):\n",
    "    english = set(['the', 'she', 'different', 'time', 'and', 'client', 'sports', 'grammar', 'family', 'report'])\n",
    "    spanish = set(['el', 'es', 'cuando', 'esta', 'malo', 'que', 'tiene', 'para'])\n",
    "    if bool(set(set_of_words) & spanish):\n",
    "        return False\n",
    "    if bool(set(set_of_words) & english):\n",
    "        return True\n",
    "    return False"
   ]
  },
  {
   "cell_type": "code",
   "execution_count": 12,
   "metadata": {},
   "outputs": [
    {
     "data": {
      "text/plain": [
       "46952"
      ]
     },
     "execution_count": 12,
     "metadata": {},
     "output_type": "execute_result"
    }
   ],
   "source": [
    "english  = {key: val for key, val in infographic_name_to_words.items() if contains_english(val)}\n",
    "len(english)"
   ]
  },
  {
   "cell_type": "code",
   "execution_count": 11,
   "metadata": {},
   "outputs": [],
   "source": [
    "json.dump(english, open('filtered.json', 'w'))\n",
    "json.dump([key for key, val in english.items()], open('filtered_keys.json', 'w'))"
   ]
  },
  {
   "cell_type": "code",
   "execution_count": 47,
   "metadata": {},
   "outputs": [],
   "source": [
    "\n",
    "newEnglish = {}\n",
    "newList = []\n",
    "stemmer = PorterStemmer()\n",
    "for url, wordList in english.items():\n",
    "    thisList = []\n",
    "    for word in wordList:\n",
    "        if len(word) > 2 and word.isalpha() and word not in STOPWORDS and wordnet.synsets(word):\n",
    "            thisList.append(word.lower())\n",
    "            #thisList.append(stemmer.stem(WordNetLemmatizer().lemmatize(word.lower(), pos='v')))\n",
    "    newList.append(thisList)\n",
    "    newEnglish[url] = thisList"
   ]
  },
  {
   "cell_type": "code",
   "execution_count": 39,
   "metadata": {
    "colab": {},
    "colab_type": "code",
    "id": "OWx81Nf-8gV_"
   },
   "outputs": [],
   "source": [
    "NUM_TOPICS = 20"
   ]
  },
  {
   "cell_type": "code",
   "execution_count": 40,
   "metadata": {},
   "outputs": [],
   "source": [
    "# Create a corpus from a list of texts\n",
    "common_dictionary = Dictionary(newList)\n",
    "common_dictionary.filter_extremes(no_below=15, no_above=0.5, keep_n=10000)\n",
    "\n",
    "common_corpus = [common_dictionary.doc2bow(text) for text in newList]\n",
    "# Train the model on the corpus.\n",
    "id2token = {val:key for key, val in common_dictionary.token2id.items()}"
   ]
  },
  {
   "cell_type": "code",
   "execution_count": 41,
   "metadata": {},
   "outputs": [],
   "source": [
    "# Train the model on the corpus.\n",
    "lda = LdaModel(common_corpus, num_topics=NUM_TOPICS)"
   ]
  },
  {
   "cell_type": "code",
   "execution_count": 42,
   "metadata": {},
   "outputs": [
    {
     "name": "stdout",
     "output_type": "stream",
     "text": [
      "Topic number 0\n",
      "Top 20 terms: dict_keys(['home', 'price', 'market', 'real', 'average', 'property', 'value', 'estate', 'money', 'sales', 'house', 'prices', 'buy', 'new', 'stock', 'buying', 'sell', 'london', 'homes', 'investment'])\n",
      "Topic number 1\n",
      "Top 20 terms: dict_keys(['social', 'media', 'marketing', 'content', 'customer', 'customers', 'people', 'email', 'use', 'twitter', 'brand', 'business', 'post', 'marketers', 'service', 'page', 'blog', 'share', 'create', 'like'])\n",
      "Topic number 2\n",
      "Top 20 terms: dict_keys(['million', 'united', 'states', 'world', 'new', 'years', 'number', 'south', 'population', 'state', 'countries', 'north', 'year', 'people', 'national', 'total', 'average', 'america', 'american', 'age'])\n",
      "Topic number 3\n",
      "Top 20 terms: dict_keys(['users', 'online', 'internet', 'google', 'mobile', 'search', 'web', 'million', 'video', 'website', 'site', 'billion', 'social', 'use', 'user', 'sites', 'digital', 'content', 'data', 'people'])\n",
      "Topic number 4\n",
      "Top 20 terms: dict_keys(['energy', 'water', 'power', 'gas', 'air', 'solar', 'use', 'oil', 'home', 'carbon', 'electricity', 'light', 'heat', 'save', 'fuel', 'heating', 'green', 'emissions', 'natural', 'year'])\n",
      "Topic number 5\n",
      "Top 20 terms: dict_keys(['car', 'cars', 'home', 'vehicle', 'air', 'miles', 'engine', 'vehicles', 'kitchen', 'new', 'auto', 'room', 'fuel', 'space', 'cost', 'damage', 'bed', 'bathroom', 'drive', 'motor'])\n",
      "Topic number 6\n",
      "Top 20 terms: dict_keys(['top', 'job', 'team', 'new', 'march', 'president', 'news', 'best', 'vote', 'social', 'most', 'jobs', 'twitter', 'design', 'people', 'score', 'media', 'february', 'political', 'members'])\n",
      "Topic number 7\n",
      "Top 20 terms: dict_keys(['credit', 'debt', 'card', 'dog', 'loan', 'pet', 'water', 'cards', 'loans', 'dogs', 'average', 'military', 'ukraine', 'pets', 'cat', 'bankruptcy', 'control', 'food', 'attacks', 'score'])\n",
      "Topic number 8\n",
      "Top 20 terms: dict_keys(['color', 'design', 'look', 'style', 'colors', 'like', 'white', 'different', 'blue', 'size', 'black', 'light', 'wear', 'right', 'best', 'red', 'shoes', 'perfect', 'use', 'shape'])\n",
      "Topic number 9\n",
      "Top 20 terms: dict_keys(['game', 'games', 'first', 'hair', 'music', 'players', 'super', 'play', 'time', 'player', 'million', 'team', 'bowl', 'round', 'all', 'cup', 'season', 'printing', 'ball', 'record'])\n",
      "Topic number 10\n",
      "Top 20 terms: dict_keys(['mobile', 'phone', 'shopping', 'apple', 'devices', 'use', 'online', 'android', 'store', 'device', 'phones', 'holiday', 'consumers', 'tablet', 'sales', 'retail', 'purchase', 'shoppers', 'cell', 'free'])\n",
      "Topic number 11\n",
      "Top 20 terms: dict_keys(['work', 'students', 'school', 'college', 'education', 'time', 'job', 'people', 'help', 'employees', 'university', 'are', 'working', 'learning', 'need', 'degree', 'high', 'workers', 'student', 'skills'])\n",
      "Topic number 12\n",
      "Top 20 terms: dict_keys(['food', 'water', 'coffee', 'wine', 'calories', 'eat', 'foods', 'tea', 'drink', 'fish', 'beer', 'green', 'gold', 'cup', 'fat', 'day', 'ice', 'red', 'hot', 'protein'])\n",
      "Topic number 13\n",
      "Top 20 terms: dict_keys(['security', 'data', 'information', 'use', 'drug', 'safety', 'child', 'drugs', 'protect', 'theft', 'abuse', 'children', 'access', 'protection', 'personal', 'identity', 'stolen', 'fraud', 'crime', 'safe'])\n",
      "Topic number 14\n",
      "Top 20 terms: dict_keys(['use', 'need', 'sure', 'time', 'make', 'step', 'help', 'right', 'easy', 'process', 'good', 'avoid', 'tips', 'keep', 'check', 'test', 'ensure', 'free', 'know', 'like'])\n",
      "Topic number 15\n",
      "Top 20 terms: dict_keys(['yes', 'driving', 'injuries', 'drivers', 'injury', 'deaths', 'accidents', 'road', 'death', 'are', 'people', 'year', 'traffic', 'driver', 'accident', 'safety', 'fatal', 'crashes', 'speed', 'car'])\n",
      "Topic number 16\n",
      "Top 20 terms: dict_keys(['billion', 'cost', 'insurance', 'million', 'average', 'tax', 'health', 'costs', 'care', 'pay', 'total', 'income', 'financial', 'year', 'annual', 'money', 'services', 'medical', 'spending', 'federal'])\n",
      "Topic number 17\n",
      "Top 20 terms: dict_keys(['women', 'health', 'men', 'people', 'heart', 'skin', 'blood', 'risk', 'disease', 'body', 'sleep', 'cancer', 'treatment', 'brain', 'help', 'pain', 'age', 'healthy', 'stress', 'cause'])\n",
      "Topic number 18\n",
      "Top 20 terms: dict_keys(['business', 'data', 'companies', 'cloud', 'growth', 'new', 'technology', 'management', 'industry', 'businesses', 'global', 'market', 'sales', 'services', 'development', 'small', 'company', 'increase', 'software', 'support'])\n",
      "Topic number 19\n",
      "Top 20 terms: dict_keys(['day', 'travel', 'new', 'time', 'love', 'people', 'wedding', 'like', 'best', 'family', 'world', 'great', 'book', 'hotel', 'year', 'big', 'man', 'christmas', 'fun', 'know'])\n"
     ]
    }
   ],
   "source": [
    "for i in range(NUM_TOPICS):\n",
    "    terms = lda.get_topic_terms(i, 20)\n",
    "    print(f'Topic number {i}')\n",
    "    val = {id2token[t[0]]: t[1] for t in terms}\n",
    "    #print(f'Top 20 terms: {val}')\n",
    "    print(f'Top 20 terms: {val.keys()}')"
   ]
  },
  {
   "cell_type": "code",
   "execution_count": 43,
   "metadata": {},
   "outputs": [],
   "source": [
    "saved = lda.save('saved_lda_15_topics')"
   ]
  },
  {
   "cell_type": "markdown",
   "metadata": {},
   "source": [
    "## Intersction with infographics that have labeled bounding boxes"
   ]
  },
  {
   "cell_type": "code",
   "execution_count": null,
   "metadata": {},
   "outputs": [],
   "source": [
    "# annotations from task where participants marked bounding boxes around all icons on an infographic\n",
    "icon_dict = pkl.load(open( \"icon_annotations_all.pickle\", \"rb\") )\n",
    "icons_english  = set(icon_dict.keys())"
   ]
  },
  {
   "cell_type": "code",
   "execution_count": 17,
   "metadata": {},
   "outputs": [],
   "source": [
    "base='http://thumbnails.visually.netdna-cdn.com'"
   ]
  },
  {
   "cell_type": "code",
   "execution_count": 13,
   "metadata": {},
   "outputs": [],
   "source": [
    "intersection = set([url_ for url_ in english.keys() if url_ in icons_english])"
   ]
  },
  {
   "cell_type": "code",
   "execution_count": 15,
   "metadata": {},
   "outputs": [
    {
     "data": {
      "text/plain": [
       "1079"
      ]
     },
     "execution_count": 15,
     "metadata": {},
     "output_type": "execute_result"
    }
   ],
   "source": [
    "len(intersection)"
   ]
  },
  {
   "cell_type": "code",
   "execution_count": 18,
   "metadata": {},
   "outputs": [],
   "source": [
    "for url_ in intersection:\n",
    "    #display(Image(url=f'{base}/{url_}'))\n",
    "    request.urlretrieve(f'{base}/{url_}', f'images/{url_}')"
   ]
  },
  {
   "cell_type": "markdown",
   "metadata": {},
   "source": [
    "## See category labels for chosen inforgraphics\n"
   ]
  },
  {
   "cell_type": "code",
   "execution_count": 65,
   "metadata": {},
   "outputs": [],
   "source": [
    "lda = LdaModel.load('saved_lda_20_topics')"
   ]
  },
  {
   "cell_type": "code",
   "execution_count": 82,
   "metadata": {},
   "outputs": [],
   "source": [
    "categories = {\n",
    "    0: 'healthcare',\n",
    "    1: 'economy and government',\n",
    "    2: 'work and positivity',\n",
    "    3: 'celebrations and family',\n",
    "    4: 'Internet and social media',\n",
    "    5: 'international world',\n",
    "    6: 'body and health',\n",
    "    7: 'shopping and travel',\n",
    "    8: 'online shopping',\n",
    "    9: 'marketing',\n",
    "    10: 'beach',\n",
    "    11: 'education',\n",
    "    12: 'mobile phones and devices',\n",
    "    13: 'food',\n",
    "    14: 'cars and driving',\n",
    "    15: 'culture and colors',\n",
    "    16: 'money and finances',\n",
    "    17: 'energy and environment',\n",
    "    18: 'house and home',\n",
    "    19: 'business and technology',\n",
    "}\n",
    "category_to_id = {v: k for k, v in categories.items()}"
   ]
  },
  {
   "cell_type": "code",
   "execution_count": 76,
   "metadata": {},
   "outputs": [
    {
     "data": {
      "text/html": [
       "<img src=\"http://thumbnails.visually.netdna-cdn.com/the-facts-about-heart-disease_50290aaf3b5fd.jpg\" width=\"300\"/>"
      ],
      "text/plain": [
       "<IPython.core.display.Image object>"
      ]
     },
     "metadata": {},
     "output_type": "display_data"
    },
    {
     "name": "stdout",
     "output_type": "stream",
     "text": [
      "[('body and health', 0.613067), ('healthcare', 0.28624195), ('house and home', 0.058531914), ('food', 0.037858088)]\n"
     ]
    },
    {
     "data": {
      "text/html": [
       "<img src=\"http://thumbnails.visually.netdna-cdn.com/obesity-in-america_50290afac75c5.jpg\" width=\"300\"/>"
      ],
      "text/plain": [
       "<IPython.core.display.Image object>"
      ]
     },
     "metadata": {},
     "output_type": "display_data"
    },
    {
     "name": "stdout",
     "output_type": "stream",
     "text": [
      "[('healthcare', 0.7217625), ('body and health', 0.18014622), ('economy and government', 0.060767878), ('cars and driving', 0.017339807), ('food', 0.011460843)]\n"
     ]
    },
    {
     "data": {
      "text/html": [
       "<img src=\"http://thumbnails.visually.netdna-cdn.com/the-egreen-society-how-britain-can-recycle-and-be-more-responsible_535a49b55ca1f.jpg\" width=\"300\"/>"
      ],
      "text/plain": [
       "<IPython.core.display.Image object>"
      ]
     },
     "metadata": {},
     "output_type": "display_data"
    },
    {
     "name": "stdout",
     "output_type": "stream",
     "text": [
      "[('energy and environment', 0.62423503), ('work and positivity', 0.14893317), ('culture and colors', 0.1276992), ('international world', 0.084317796)]\n"
     ]
    },
    {
     "data": {
      "text/html": [
       "<img src=\"http://thumbnails.visually.netdna-cdn.com/how-to-spot-a-hidden-handgun_50290a774933e.jpg\" width=\"300\"/>"
      ],
      "text/plain": [
       "<IPython.core.display.Image object>"
      ]
     },
     "metadata": {},
     "output_type": "display_data"
    },
    {
     "name": "stdout",
     "output_type": "stream",
     "text": [
      "[('beach', 0.5734384), ('work and positivity', 0.19971064), ('body and health', 0.1196323), ('shopping and travel', 0.07180407), ('money and finances', 0.019114424), ('celebrations, family, and holidays', 0.011472636)]\n"
     ]
    },
    {
     "data": {
      "text/html": [
       "<img src=\"http://thumbnails.visually.netdna-cdn.com/internet-speeds-and-costs-around-the-world_50290a7186731.jpeg\" width=\"300\"/>"
      ],
      "text/plain": [
       "<IPython.core.display.Image object>"
      ]
     },
     "metadata": {},
     "output_type": "display_data"
    },
    {
     "name": "stdout",
     "output_type": "stream",
     "text": [
      "[('international world', 0.6629067), ('mobile phones and devices', 0.20898457), ('money and finances', 0.109219804)]\n"
     ]
    },
    {
     "data": {
      "text/html": [
       "<img src=\"http://thumbnails.visually.netdna-cdn.com/super-dad_502910d3ad406.png\" width=\"300\"/>"
      ],
      "text/plain": [
       "<IPython.core.display.Image object>"
      ]
     },
     "metadata": {},
     "output_type": "display_data"
    },
    {
     "name": "stdout",
     "output_type": "stream",
     "text": [
      "[('healthcare', 0.43167213), ('celebrations, family, and holidays', 0.25244376), ('economy and government', 0.15409788), ('work and positivity', 0.12143329), ('food', 0.033210095)]\n"
     ]
    },
    {
     "data": {
      "text/html": [
       "<img src=\"http://thumbnails.visually.netdna-cdn.com/hunters-vs-farmers-sales-personas_51e5924c2f823.png\" width=\"300\"/>"
      ],
      "text/plain": [
       "<IPython.core.display.Image object>"
      ]
     },
     "metadata": {},
     "output_type": "display_data"
    },
    {
     "name": "stdout",
     "output_type": "stream",
     "text": [
      "[('business and technology', 0.53763914), ('work and positivity', 0.15666299), ('shopping and travel', 0.08047331), ('online shopping', 0.06416929), ('marketing', 0.061621428), ('energy and environment', 0.058643337), ('education', 0.01929917), ('celebrations, family, and holidays', 0.016228175)]\n"
     ]
    },
    {
     "data": {
      "text/html": [
       "<img src=\"http://thumbnails.visually.netdna-cdn.com/the-furry-side-of-finance_50290bef84b62.png\" width=\"300\"/>"
      ],
      "text/plain": [
       "<IPython.core.display.Image object>"
      ]
     },
     "metadata": {},
     "output_type": "display_data"
    },
    {
     "name": "stdout",
     "output_type": "stream",
     "text": [
      "[('house and home', 0.2783508), ('economy and government', 0.2214065), ('money and finances', 0.19993979), ('Internet and social media', 0.093021825), ('shopping and travel', 0.085343204), ('celebrations, family, and holidays', 0.03340603), ('healthcare', 0.029605322), ('online shopping', 0.027397463), ('energy and environment', 0.0153595405), ('international world', 0.012104482)]\n"
     ]
    },
    {
     "data": {
      "text/html": [
       "<img src=\"http://thumbnails.visually.netdna-cdn.com/radar-explained_502914ab0fcf1.jpg\" width=\"300\"/>"
      ],
      "text/plain": [
       "<IPython.core.display.Image object>"
      ]
     },
     "metadata": {},
     "output_type": "display_data"
    },
    {
     "name": "stdout",
     "output_type": "stream",
     "text": [
      "[('beach', 0.41899002), ('cars and driving', 0.26278234), ('education', 0.1914445), ('house and home', 0.065962166), ('energy and environment', 0.028287826), ('economy and government', 0.012034436)]\n"
     ]
    },
    {
     "data": {
      "text/html": [
       "<img src=\"http://thumbnails.visually.netdna-cdn.com/calories-in-wine-vs-beer_50982977dc9eb.jpg\" width=\"300\"/>"
      ],
      "text/plain": [
       "<IPython.core.display.Image object>"
      ]
     },
     "metadata": {},
     "output_type": "display_data"
    },
    {
     "name": "stdout",
     "output_type": "stream",
     "text": [
      "[('food', 0.34469956), ('beach', 0.19178692), ('celebrations, family, and holidays', 0.16173044), ('healthcare', 0.14688466), ('body and health', 0.05453036), ('education', 0.052244075), ('international world', 0.018667908), ('economy and government', 0.013458499), ('mobile phones and devices', 0.011700714)]\n"
     ]
    },
    {
     "data": {
      "text/html": [
       "<img src=\"http://thumbnails.visually.netdna-cdn.com/10-commonly-misunderstood-words-in-english_50290cfa6c279.jpg\" width=\"300\"/>"
      ],
      "text/plain": [
       "<IPython.core.display.Image object>"
      ]
     },
     "metadata": {},
     "output_type": "display_data"
    },
    {
     "name": "stdout",
     "output_type": "stream",
     "text": [
      "[('work and positivity', 0.471903), ('body and health', 0.3126988), ('international world', 0.07049603), ('Internet and social media', 0.0625993), ('culture and colors', 0.04286274), ('food', 0.022366937)]\n"
     ]
    },
    {
     "data": {
      "text/html": [
       "<img src=\"http://thumbnails.visually.netdna-cdn.com/interesting-facts-on-car-crashes_509c3e82230cf.jpg\" width=\"300\"/>"
      ],
      "text/plain": [
       "<IPython.core.display.Image object>"
      ]
     },
     "metadata": {},
     "output_type": "display_data"
    },
    {
     "name": "stdout",
     "output_type": "stream",
     "text": [
      "[('cars and driving', 0.6727489), ('healthcare', 0.2754646), ('shopping and travel', 0.021183072), ('economy and government', 0.01993673)]\n"
     ]
    },
    {
     "data": {
      "text/html": [
       "<img src=\"http://thumbnails.visually.netdna-cdn.com/telecom-present--the-future_530b60f629fab.jpg\" width=\"300\"/>"
      ],
      "text/plain": [
       "<IPython.core.display.Image object>"
      ]
     },
     "metadata": {},
     "output_type": "display_data"
    },
    {
     "name": "stdout",
     "output_type": "stream",
     "text": [
      "[('business and technology', 0.677016), ('mobile phones and devices', 0.22439988), ('international world', 0.044096634), ('online shopping', 0.029297931), ('shopping and travel', 0.018432783)]\n"
     ]
    },
    {
     "data": {
      "text/html": [
       "<img src=\"http://thumbnails.visually.netdna-cdn.com/cdc-womens-health-fair_50982d2ebacf9.png\" width=\"300\"/>"
      ],
      "text/plain": [
       "<IPython.core.display.Image object>"
      ]
     },
     "metadata": {},
     "output_type": "display_data"
    },
    {
     "name": "stdout",
     "output_type": "stream",
     "text": [
      "[('healthcare', 0.3409192), ('work and positivity', 0.28082848), ('cars and driving', 0.1284386), ('economy and government', 0.10056369), ('body and health', 0.097239725), ('Internet and social media', 0.033589277)]\n"
     ]
    },
    {
     "data": {
      "text/html": [
       "<img src=\"http://thumbnails.visually.netdna-cdn.com/infographic-privatelabel-craft-beers-see-sales-growth_5050b8cfdc6f4.jpg\" width=\"300\"/>"
      ],
      "text/plain": [
       "<IPython.core.display.Image object>"
      ]
     },
     "metadata": {},
     "output_type": "display_data"
    },
    {
     "name": "stdout",
     "output_type": "stream",
     "text": [
      "[('shopping and travel', 0.37940174), ('energy and environment', 0.18046758), ('food', 0.17814624), ('mobile phones and devices', 0.08447644), ('money and finances', 0.06487871), ('healthcare', 0.060677458), ('celebrations, family, and holidays', 0.019804137), ('beach', 0.015529137), ('business and technology', 0.013000137)]\n"
     ]
    },
    {
     "data": {
      "text/html": [
       "<img src=\"http://thumbnails.visually.netdna-cdn.com/15-important-mens-hairstyles_502916296a2b9.jpg\" width=\"300\"/>"
      ],
      "text/plain": [
       "<IPython.core.display.Image object>"
      ]
     },
     "metadata": {},
     "output_type": "display_data"
    },
    {
     "name": "stdout",
     "output_type": "stream",
     "text": [
      "[('culture and colors', 0.77923834), ('food', 0.0983639), ('beach', 0.053384785), ('online shopping', 0.03938333)]\n"
     ]
    },
    {
     "data": {
      "text/html": [
       "<img src=\"http://thumbnails.visually.netdna-cdn.com/clean-cities-national-parks-initiative_516c6bb16bc8c.png\" width=\"300\"/>"
      ],
      "text/plain": [
       "<IPython.core.display.Image object>"
      ]
     },
     "metadata": {},
     "output_type": "display_data"
    },
    {
     "name": "stdout",
     "output_type": "stream",
     "text": [
      "[('economy and government', 0.33378616), ('energy and environment', 0.27360192), ('beach', 0.19939655), ('shopping and travel', 0.1040099), ('cars and driving', 0.05091686), ('business and technology', 0.031924967)]\n"
     ]
    },
    {
     "data": {
      "text/html": [
       "<img src=\"http://thumbnails.visually.netdna-cdn.com/diversity-of-species-in-the-raintforest_50290a5945b58.jpg\" width=\"300\"/>"
      ],
      "text/plain": [
       "<IPython.core.display.Image object>"
      ]
     },
     "metadata": {},
     "output_type": "display_data"
    },
    {
     "name": "stdout",
     "output_type": "stream",
     "text": [
      "[('house and home', 0.32576185), ('work and positivity', 0.2515671), ('beach', 0.16875754), ('body and health', 0.13632733), ('culture and colors', 0.08349527)]\n"
     ]
    },
    {
     "data": {
      "text/html": [
       "<img src=\"http://thumbnails.visually.netdna-cdn.com/anatomy-of-a-wedding-gown_51c3402050877.jpg\" width=\"300\"/>"
      ],
      "text/plain": [
       "<IPython.core.display.Image object>"
      ]
     },
     "metadata": {},
     "output_type": "display_data"
    },
    {
     "name": "stdout",
     "output_type": "stream",
     "text": [
      "[('beach', 0.29816517), ('celebrations, family, and holidays', 0.29470327), ('online shopping', 0.17017215), ('culture and colors', 0.14579746), ('international world', 0.075355016)]\n"
     ]
    },
    {
     "data": {
      "text/html": [
       "<img src=\"http://thumbnails.visually.netdna-cdn.com/preventable-deaths_50291187a6896.jpg\" width=\"300\"/>"
      ],
      "text/plain": [
       "<IPython.core.display.Image object>"
      ]
     },
     "metadata": {},
     "output_type": "display_data"
    },
    {
     "name": "stdout",
     "output_type": "stream",
     "text": [
      "[('healthcare', 0.6057594), ('body and health', 0.277515), ('cars and driving', 0.099782035)]\n"
     ]
    },
    {
     "data": {
      "text/html": [
       "<img src=\"http://thumbnails.visually.netdna-cdn.com/grandfather-frost-and-santa-claus_50290f8113beb.jpg\" width=\"300\"/>"
      ],
      "text/plain": [
       "<IPython.core.display.Image object>"
      ]
     },
     "metadata": {},
     "output_type": "display_data"
    },
    {
     "name": "stdout",
     "output_type": "stream",
     "text": [
      "[('beach', 0.41636676), ('celebrations, family, and holidays', 0.17066093), ('house and home', 0.11419123), ('culture and colors', 0.10923781), ('international world', 0.07940975), ('marketing', 0.07194317), ('cars and driving', 0.026372181)]\n"
     ]
    },
    {
     "data": {
      "text/html": [
       "<img src=\"http://thumbnails.visually.netdna-cdn.com/31-days-of-refreshingly-chilled-lemonade_5029153eb8c76.png\" width=\"300\"/>"
      ],
      "text/plain": [
       "<IPython.core.display.Image object>"
      ]
     },
     "metadata": {},
     "output_type": "display_data"
    },
    {
     "name": "stdout",
     "output_type": "stream",
     "text": [
      "[('shopping and travel', 0.4544478), ('house and home', 0.35947394), ('food', 0.15676789)]\n"
     ]
    },
    {
     "data": {
      "text/html": [
       "<img src=\"http://thumbnails.visually.netdna-cdn.com/why-india-cant-feed-her-people_50290b996c340.jpg\" width=\"300\"/>"
      ],
      "text/plain": [
       "<IPython.core.display.Image object>"
      ]
     },
     "metadata": {},
     "output_type": "display_data"
    },
    {
     "name": "stdout",
     "output_type": "stream",
     "text": [
      "[('food', 0.22952266), ('healthcare', 0.2089054), ('energy and environment', 0.2079299), ('international world', 0.2032337), ('house and home', 0.07190984), ('economy and government', 0.06903907)]\n"
     ]
    },
    {
     "data": {
      "text/html": [
       "<img src=\"http://thumbnails.visually.netdna-cdn.com/SustainabilityReport-thumbnail_53d7c1e159d97.png\" width=\"300\"/>"
      ],
      "text/plain": [
       "<IPython.core.display.Image object>"
      ]
     },
     "metadata": {},
     "output_type": "display_data"
    },
    {
     "name": "stdout",
     "output_type": "stream",
     "text": [
      "[('business and technology', 0.4372533), ('energy and environment', 0.42518243), ('celebrations, family, and holidays', 0.090342075)]\n"
     ]
    },
    {
     "data": {
      "text/html": [
       "<img src=\"http://thumbnails.visually.netdna-cdn.com/how-much-co2-does-the-internet-produce_50290d6d43b74.jpg\" width=\"300\"/>"
      ],
      "text/plain": [
       "<IPython.core.display.Image object>"
      ]
     },
     "metadata": {},
     "output_type": "display_data"
    },
    {
     "name": "stdout",
     "output_type": "stream",
     "text": [
      "[('energy and environment', 0.68738234), ('beach', 0.11041014), ('international world', 0.09374459), ('economy and government', 0.05476067), ('mobile phones and devices', 0.034471516)]\n"
     ]
    },
    {
     "data": {
      "text/html": [
       "<img src=\"http://thumbnails.visually.netdna-cdn.com/texting-while-driving-statistics--facts_50290ab6860e7.png\" width=\"300\"/>"
      ],
      "text/plain": [
       "<IPython.core.display.Image object>"
      ]
     },
     "metadata": {},
     "output_type": "display_data"
    },
    {
     "name": "stdout",
     "output_type": "stream",
     "text": [
      "[('cars and driving', 0.59259856), ('mobile phones and devices', 0.13467275), ('economy and government', 0.13119175), ('healthcare', 0.10997099), ('international world', 0.020536536)]\n"
     ]
    },
    {
     "data": {
      "text/html": [
       "<img src=\"http://thumbnails.visually.netdna-cdn.com/a-geographical-trap-landlocked-developing-countries_50951a6dacde9.jpg\" width=\"300\"/>"
      ],
      "text/plain": [
       "<IPython.core.display.Image object>"
      ]
     },
     "metadata": {},
     "output_type": "display_data"
    },
    {
     "name": "stdout",
     "output_type": "stream",
     "text": [
      "[('international world', 0.387795), ('economy and government', 0.24291064), ('beach', 0.16655123), ('healthcare', 0.06913412), ('money and finances', 0.04851816), ('house and home', 0.041939586), ('work and positivity', 0.024355493), ('Internet and social media', 0.011977524)]\n"
     ]
    }
   ],
   "source": [
    "for url in os.listdir('test'):\n",
    "    \n",
    "    display(Image(url=f'{base}/{url}', width=300))\n",
    "    confidence = {}\n",
    "    for c, prob in lda[common_dictionary.doc2bow(newEnglish[url])]:\n",
    "        confidence[categories[c]] = prob\n",
    "    confidence = sorted(confidence.items(), key=lambda x: (x[1],x[0]), reverse=True)\n",
    "    print(confidence)"
   ]
  },
  {
   "cell_type": "code",
   "execution_count": 90,
   "metadata": {},
   "outputs": [
    {
     "data": {
      "text/plain": [
       "[{'categories': [[0, 'healthcare'], [18, 'house and home'], [13, 'food']],\n",
       "  'url': 'the-facts-about-heart-disease_50290aaf3b5fd.jpg'},\n",
       " {'categories': [[0, 'healthcare'],\n",
       "   [3, 'celebrations and family'],\n",
       "   [1, 'economy and government'],\n",
       "   [13, 'food']],\n",
       "  'url': 'super-dad_502910d3ad406.png'},\n",
       " {'categories': [[19, 'business and technology'],\n",
       "   [7, 'shopping and travel'],\n",
       "   [8, 'online shopping'],\n",
       "   [9, 'marketing']],\n",
       "  'url': 'hunters-vs-farmers-sales-personas_51e5924c2f823.png'},\n",
       " {'categories': [[13, 'food'],\n",
       "   [3, 'celebrations and family'],\n",
       "   [0, 'healthcare']],\n",
       "  'url': 'calories-in-wine-vs-beer_50982977dc9eb.jpg'},\n",
       " {'categories': [[19, 'business and technology'],\n",
       "   [12, 'mobile phones and devices'],\n",
       "   [5, 'international world'],\n",
       "   [8, 'online shopping'],\n",
       "   [7, 'shopping and travel']],\n",
       "  'url': 'telecom-present--the-future_530b60f629fab.jpg'},\n",
       " {'categories': [[1, 'economy and government'],\n",
       "   [17, 'energy and environment'],\n",
       "   [7, 'shopping and travel'],\n",
       "   [14, 'cars and driving']],\n",
       "  'url': 'clean-cities-national-parks-initiative_516c6bb16bc8c.png'},\n",
       " {'categories': [[3, 'celebrations and family'],\n",
       "   [8, 'online shopping'],\n",
       "   [15, 'culture and colors'],\n",
       "   [5, 'international world']],\n",
       "  'url': 'anatomy-of-a-wedding-gown_51c3402050877.jpg'},\n",
       " {'categories': [[7, 'shopping and travel'],\n",
       "   [18, 'house and home'],\n",
       "   [13, 'food']],\n",
       "  'url': '31-days-of-refreshingly-chilled-lemonade_5029153eb8c76.png'},\n",
       " {'categories': [[13, 'food'],\n",
       "   [0, 'healthcare'],\n",
       "   [17, 'energy and environment'],\n",
       "   [5, 'international world'],\n",
       "   [18, 'house and home']],\n",
       "  'url': 'why-india-cant-feed-her-people_50290b996c340.jpg'},\n",
       " {'categories': [[17, 'energy and environment'],\n",
       "   [5, 'international world'],\n",
       "   [1, 'economy and government'],\n",
       "   [12, 'mobile phones and devices']],\n",
       "  'url': 'how-much-co2-does-the-internet-produce_50290d6d43b74.jpg'},\n",
       " {'categories': [[14, 'cars and driving'],\n",
       "   [12, 'mobile phones and devices'],\n",
       "   [1, 'economy and government'],\n",
       "   [0, 'healthcare'],\n",
       "   [15, 'culture and colors']],\n",
       "  'url': 'texting-while-driving-statistics--facts_50290ab6860e7.png'},\n",
       " {'categories': [[5, 'international world'],\n",
       "   [1, 'economy and government'],\n",
       "   [0, 'healthcare'],\n",
       "   [16, 'money and finances']],\n",
       "  'url': 'a-geographical-trap-landlocked-developing-countries_50951a6dacde9.jpg'}]"
      ]
     },
     "execution_count": 90,
     "metadata": {},
     "output_type": "execute_result"
    }
   ],
   "source": [
    "image_categories = []\n",
    "for url in os.listdir('test/final'):\n",
    "    \n",
    "    #display(Image(url=f'{base}/{url}', width=300))\n",
    "    confidence = {}\n",
    "    for c, prob in lda[common_dictionary.doc2bow(newEnglish[url])]:\n",
    "        confidence[categories[c]] = prob\n",
    "    confidence = sorted(confidence.items(), key=lambda x: (x[1],x[0]), reverse=True)\n",
    "    #print(url, confidence)\n",
    "    image_categories.append({\n",
    "        \"categories\": [\n",
    "            [category_to_id[cat[0]],\n",
    "             cat[0]]\n",
    "            for cat in confidence[:5] if category_to_id[cat[0]] not in [2, 6, 10]\n",
    "        ],\n",
    "        \"url\": url\n",
    "    })\n",
    "image_categories"
   ]
  },
  {
   "cell_type": "code",
   "execution_count": 97,
   "metadata": {},
   "outputs": [
    {
     "data": {
      "text/plain": [
       "[{'categories': [[0, 'health'],\n",
       "   [18, 'house and home'],\n",
       "   [13, 'food'],\n",
       "   [7, 'shopping and travel'],\n",
       "   [9, 'marketing']],\n",
       "  'url': 'the-facts-about-heart-disease_50290aaf3b5fd.jpg'},\n",
       " {'categories': [[0, 'health'],\n",
       "   [3, 'celebrations and family'],\n",
       "   [1, 'economy and government'],\n",
       "   [13, 'food'],\n",
       "   [17, 'energy and environment']],\n",
       "  'url': 'super-dad_502910d3ad406.png'},\n",
       " {'categories': [[19, 'business and technology'],\n",
       "   [7, 'shopping and travel'],\n",
       "   [8, 'online shopping'],\n",
       "   [9, 'marketing'],\n",
       "   [5, 'international world']],\n",
       "  'url': 'hunters-vs-farmers-sales-personas_51e5924c2f823.png'},\n",
       " {'categories': [[13, 'food'],\n",
       "   [3, 'celebrations and family'],\n",
       "   [0, 'health'],\n",
       "   [14, 'cars and driving'],\n",
       "   [7, 'shopping and travel']],\n",
       "  'url': 'calories-in-wine-vs-beer_50982977dc9eb.jpg'},\n",
       " {'categories': [[19, 'business and technology'],\n",
       "   [12, 'mobile phones and devices'],\n",
       "   [5, 'international world'],\n",
       "   [8, 'online shopping'],\n",
       "   [7, 'shopping and travel']],\n",
       "  'url': 'telecom-present--the-future_530b60f629fab.jpg'},\n",
       " {'categories': [[1, 'economy and government'],\n",
       "   [17, 'energy and environment'],\n",
       "   [7, 'shopping and travel'],\n",
       "   [14, 'cars and driving'],\n",
       "   [18, 'house and home']],\n",
       "  'url': 'clean-cities-national-parks-initiative_516c6bb16bc8c.png'},\n",
       " {'categories': [[3, 'celebrations and family'],\n",
       "   [8, 'online shopping'],\n",
       "   [15, 'culture and colors'],\n",
       "   [5, 'international world'],\n",
       "   [17, 'energy and environment']],\n",
       "  'url': 'anatomy-of-a-wedding-gown_51c3402050877.jpg'},\n",
       " {'categories': [[7, 'shopping and travel'],\n",
       "   [18, 'house and home'],\n",
       "   [13, 'food'],\n",
       "   [11, 'education'],\n",
       "   [15, 'culture and colors']],\n",
       "  'url': '31-days-of-refreshingly-chilled-lemonade_5029153eb8c76.png'},\n",
       " {'categories': [[13, 'food'],\n",
       "   [0, 'health'],\n",
       "   [17, 'energy and environment'],\n",
       "   [5, 'international world'],\n",
       "   [18, 'house and home']],\n",
       "  'url': 'why-india-cant-feed-her-people_50290b996c340.jpg'},\n",
       " {'categories': [[17, 'energy and environment'],\n",
       "   [5, 'international world'],\n",
       "   [1, 'economy and government'],\n",
       "   [12, 'mobile phones and devices'],\n",
       "   [18, 'house and home']],\n",
       "  'url': 'how-much-co2-does-the-internet-produce_50290d6d43b74.jpg'},\n",
       " {'categories': [[14, 'cars and driving'],\n",
       "   [12, 'mobile phones and devices'],\n",
       "   [1, 'economy and government'],\n",
       "   [0, 'health'],\n",
       "   [15, 'culture and colors']],\n",
       "  'url': 'texting-while-driving-statistics--facts_50290ab6860e7.png'},\n",
       " {'categories': [[5, 'international world'],\n",
       "   [1, 'economy and government'],\n",
       "   [0, 'health'],\n",
       "   [16, 'money and finances'],\n",
       "   [14, 'cars and driving']],\n",
       "  'url': 'a-geographical-trap-landlocked-developing-countries_50951a6dacde9.jpg'}]"
      ]
     },
     "execution_count": 97,
     "metadata": {},
     "output_type": "execute_result"
    }
   ],
   "source": [
    "cleaned = []\n",
    "for entry in image_categories:\n",
    "    clean_categories = []\n",
    "    for category in entry['categories']:\n",
    "        if category[0] == 0:\n",
    "            clean_categories.append([0, 'health'])\n",
    "        else:\n",
    "            clean_categories.append(category)\n",
    "    while len(clean_categories) < 5:\n",
    "        cur_categories = [x[0] for x in clean_categories]\n",
    "        i = 2\n",
    "        while i in [2, 6, 10] or i in cur_categories:\n",
    "            i = randrange(1, 19)\n",
    "        clean_categories.append([i, categories[i]])    \n",
    "        \n",
    "    cleaned.append({\n",
    "        'categories': clean_categories,\n",
    "        'url': entry['url']\n",
    "    }\n",
    "cleaned"
   ]
  },
  {
   "cell_type": "code",
   "execution_count": null,
   "metadata": {},
   "outputs": [],
   "source": []
  }
 ],
 "metadata": {
  "colab": {
   "include_colab_link": true,
   "name": "6.804.ipynb",
   "provenance": [],
   "version": "0.3.2"
  },
  "kernelspec": {
   "display_name": "Python 3",
   "language": "python",
   "name": "python3"
  },
  "language_info": {
   "codemirror_mode": {
    "name": "ipython",
    "version": 3
   },
   "file_extension": ".py",
   "mimetype": "text/x-python",
   "name": "python",
   "nbconvert_exporter": "python",
   "pygments_lexer": "ipython3",
   "version": "3.6.7"
  }
 },
 "nbformat": 4,
 "nbformat_minor": 1
}
