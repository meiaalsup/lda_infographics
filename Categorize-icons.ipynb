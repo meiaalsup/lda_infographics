{
 "cells": [
  {
   "cell_type": "markdown",
   "metadata": {},
   "source": [
    "# Fill in your name!"
   ]
  },
  {
   "cell_type": "code",
   "execution_count": 1,
   "metadata": {},
   "outputs": [],
   "source": [
    "YOUR_NAME = \"sravya\""
   ]
  },
  {
   "cell_type": "markdown",
   "metadata": {},
   "source": [
    "# imports and constants"
   ]
  },
  {
   "cell_type": "code",
   "execution_count": 2,
   "metadata": {},
   "outputs": [],
   "source": [
    "import pickle\n",
    "import json\n",
    "from PIL import Image\n",
    "from matplotlib.pyplot import imshow\n",
    "import numpy as np\n",
    "import random\n",
    "from IPython.display import display, clear_output"
   ]
  },
  {
   "cell_type": "code",
   "execution_count": 3,
   "metadata": {},
   "outputs": [
    {
     "data": {
      "text/plain": [
       "{'0': 'health',\n",
       " '1': 'economy and government',\n",
       " '11': 'education',\n",
       " '12': 'mobile phones and devices',\n",
       " '13': 'food',\n",
       " '14': 'cars and driving',\n",
       " '15': 'culture and colors',\n",
       " '16': 'money and finances',\n",
       " '17': 'energy and environment',\n",
       " '18': 'house and home',\n",
       " '19': 'business and technology',\n",
       " '3': 'celebrations and family',\n",
       " '4': 'Internet and social media',\n",
       " '5': 'international world',\n",
       " '7': 'shopping and travel',\n",
       " '8': 'online shopping',\n",
       " '9': 'marketing'}"
      ]
     },
     "execution_count": 3,
     "metadata": {},
     "output_type": "execute_result"
    }
   ],
   "source": [
    "CATEGORIES = json.load(open('categories_edited.json', 'r'))\n",
    "CATEGORIES "
   ]
  },
  {
   "cell_type": "code",
   "execution_count": 4,
   "metadata": {},
   "outputs": [],
   "source": [
    "#BASE_PATH_INFO = \"http://thumbnails.visually.netdna-cdn.com/most-trendy-outfit-january-2013_510ba1d15148b.jpg\"\n",
    "BASE_PATH_INFO = \"test/final/\"\n",
    "BASE_PATH_DATA = \"../visuallydata/\"\n",
    "SAMPLE_INFOGRAPHIC = \"the-facts-about-heart-disease_50290aaf3b5fd.jpg\""
   ]
  },
  {
   "cell_type": "code",
   "execution_count": 5,
   "metadata": {},
   "outputs": [
    {
     "data": {
      "text/plain": [
       "['the-facts-about-heart-disease_50290aaf3b5fd.jpg',\n",
       " 'the-egreen-society-how-britain-can-recycle-and-be-more-responsible_535a49b55ca1f.jpg',\n",
       " 'super-dad_502910d3ad406.png',\n",
       " 'hunters-vs-farmers-sales-personas_51e5924c2f823.png',\n",
       " 'calories-in-wine-vs-beer_50982977dc9eb.jpg',\n",
       " 'interesting-facts-on-car-crashes_509c3e82230cf.jpg',\n",
       " 'telecom-present--the-future_530b60f629fab.jpg',\n",
       " 'anatomy-of-a-wedding-gown_51c3402050877.jpg',\n",
       " '31-days-of-refreshingly-chilled-lemonade_5029153eb8c76.png',\n",
       " 'why-india-cant-feed-her-people_50290b996c340.jpg',\n",
       " 'texting-while-driving-statistics--facts_50290ab6860e7.png',\n",
       " 'a-geographical-trap-landlocked-developing-countries_50951a6dacde9.jpg']"
      ]
     },
     "execution_count": 5,
     "metadata": {},
     "output_type": "execute_result"
    }
   ],
   "source": [
    "infographics = json.load(open('study_infographics.json', 'r'))\n",
    "INFOGRAPHIC_PATHS = [elt['url'] for elt in infographics]\n",
    "INFOGRAPHIC_PATHS"
   ]
  },
  {
   "cell_type": "code",
   "execution_count": 6,
   "metadata": {},
   "outputs": [
    {
     "data": {
      "text/plain": [
       "'sravya_hand_icon_labels.txt'"
      ]
     },
     "execution_count": 6,
     "metadata": {},
     "output_type": "execute_result"
    }
   ],
   "source": [
    "LABELS_FILE = YOUR_NAME + \"_hand_icon_labels.txt\"\n",
    "LABELS_FILE"
   ]
  },
  {
   "cell_type": "markdown",
   "metadata": {},
   "source": [
    "# download bounding boxes"
   ]
  },
  {
   "cell_type": "code",
   "execution_count": 7,
   "metadata": {},
   "outputs": [],
   "source": [
    "detectionsList = pickle.load(open(BASE_PATH_DATA + \"icon_annotations_all.pickle\", \"rb\"))"
   ]
  },
  {
   "cell_type": "code",
   "execution_count": 8,
   "metadata": {},
   "outputs": [],
   "source": [
    "def show_bbox(im, box): \n",
    "    im = Image.open(im)\n",
    "    w,h = im.size\n",
    "    \n",
    "    bottom = int(box['bottom']*h)\n",
    "    top = int(box['top']*h)\n",
    "    left = int(box['left']*w)\n",
    "    right = int(box['right']*w)\n",
    "\n",
    "    \n",
    "    #bboxnums = encoded_bbox.split(\" \")\n",
    "#     left = int(w*float(bboxnums[0])/1000.0)\n",
    "#     top = int(h*float(bboxnums[1])/1000.0)\n",
    "#     right = int(w*float(bboxnums[2])/1000.0)\n",
    "#     bottom = int(h*float(bboxnums[3])/1000.0)\n",
    "#     width = right - left\n",
    "#     height = bottom - top\n",
    "    \n",
    "    cropped_im = im.crop((left, top, right, bottom))\n",
    "#     %matplotlib inline\n",
    "#     imshow(np.asarray(cropped_im))\n",
    "    display(cropped_im)"
   ]
  },
  {
   "cell_type": "markdown",
   "metadata": {},
   "source": [
    "# Helpers"
   ]
  },
  {
   "cell_type": "code",
   "execution_count": 9,
   "metadata": {},
   "outputs": [],
   "source": [
    "def print_instructions(): \n",
    "    print(\"For each icon, please identify the most relevant categories.\")\n",
    "    print(\"\\n\")\n",
    "    print(\"Please write the three most relevant ids, IN ORDER\")\n",
    "    print(\"\\n\")\n",
    "    print(\"For instance, if you think the most relevant category for the icon is <category 1>, the next most relevant is <category 2>, and the third most relevant is <category 3>, you would input `1 2 3` in the input box.\")\n",
    "    print(\"\\n\")\n",
    "    print(\"If you have no idea what is being shown in the icon, just write the letter 'x'\")\n",
    "    print(\"The category ids are as below in the form <category id>: <category name>\")\n",
    "    print(\"\\n\")\n",
    "    \n",
    "#print_instructions()"
   ]
  },
  {
   "cell_type": "code",
   "execution_count": 10,
   "metadata": {},
   "outputs": [],
   "source": [
    "def print_category_options(): \n",
    "    print(\"CATEGORY OPTIONS: \")\n",
    "    for i in range(len(CATEGORIES)): \n",
    "        key = str(i)\n",
    "        try: \n",
    "            val = CATEGORIES[key]\n",
    "            print(\"\\t%s: %s\" % (key, val))\n",
    "        except: \n",
    "            pass \n",
    "    print(\"\\n\")\n",
    "#print_category_options()"
   ]
  },
  {
   "cell_type": "code",
   "execution_count": 11,
   "metadata": {},
   "outputs": [],
   "source": [
    "def get_cat_labels(): \n",
    "    return input('Write down your top three category labels for this icon, in order.')"
   ]
  },
  {
   "cell_type": "code",
   "execution_count": 12,
   "metadata": {},
   "outputs": [],
   "source": [
    "def write_label(infographic_name, icon_idx, answer): \n",
    "    print(\"writing!\")\n",
    "    line = \"%s %d %s\\n\" % (infographic_name, icon_idx, answer)\n",
    "    with open(LABELS_FILE, 'a') as outfile: \n",
    "        outfile.write(line)"
   ]
  },
  {
   "cell_type": "markdown",
   "metadata": {},
   "source": [
    "# Prep Data"
   ]
  },
  {
   "cell_type": "code",
   "execution_count": 13,
   "metadata": {},
   "outputs": [
    {
     "name": "stdout",
     "output_type": "stream",
     "text": [
      "25 the-facts-about-heart-disease_50290aaf3b5fd.jpg\n",
      "6 the-egreen-society-how-britain-can-recycle-and-be-more-responsible_535a49b55ca1f.jpg\n",
      "9 super-dad_502910d3ad406.png\n",
      "16 hunters-vs-farmers-sales-personas_51e5924c2f823.png\n",
      "9 calories-in-wine-vs-beer_50982977dc9eb.jpg\n",
      "9 interesting-facts-on-car-crashes_509c3e82230cf.jpg\n",
      "17 telecom-present--the-future_530b60f629fab.jpg\n",
      "9 anatomy-of-a-wedding-gown_51c3402050877.jpg\n",
      "69 31-days-of-refreshingly-chilled-lemonade_5029153eb8c76.png\n",
      "7 why-india-cant-feed-her-people_50290b996c340.jpg\n",
      "17 texting-while-driving-statistics--facts_50290ab6860e7.png\n",
      "5 a-geographical-trap-landlocked-developing-countries_50951a6dacde9.jpg\n"
     ]
    },
    {
     "data": {
      "text/plain": [
       "198"
      ]
     },
     "execution_count": 13,
     "metadata": {},
     "output_type": "execute_result"
    }
   ],
   "source": [
    "tasks = []\n",
    "for info in INFOGRAPHIC_PATHS: \n",
    "    n_bboxes = len(detectionsList[info])\n",
    "    print(n_bboxes, info)\n",
    "    for i in range(n_bboxes): \n",
    "        tasks.append((info, i))\n",
    "       \n",
    "random.shuffle(tasks)\n",
    "len(tasks)"
   ]
  },
  {
   "cell_type": "markdown",
   "metadata": {},
   "source": [
    "# Run task"
   ]
  },
  {
   "cell_type": "code",
   "execution_count": 16,
   "metadata": {},
   "outputs": [
    {
     "name": "stdout",
     "output_type": "stream",
     "text": [
      "For each icon, please identify the most relevant categories.\n",
      "\n",
      "\n",
      "Please write the three most relevant ids, IN ORDER\n",
      "\n",
      "\n",
      "For instance, if you think the most relevant category for the icon is <category 1>, the next most relevant is <category 2>, and the third most relevant is <category 3>, you would input `1 2 3` in the input box.\n",
      "\n",
      "\n",
      "If you have no idea what is being shown in the icon, just write the letter 'x'\n",
      "The category ids are as below in the form <category id>: <category name>\n",
      "\n",
      "\n",
      "CATEGORY OPTIONS: \n",
      "\t0: health\n",
      "\t1: economy and government\n",
      "\t3: celebrations and family\n",
      "\t4: Internet and social media\n",
      "\t5: international world\n",
      "\t7: shopping and travel\n",
      "\t8: online shopping\n",
      "\t9: marketing\n",
      "\t11: education\n",
      "\t12: mobile phones and devices\n",
      "\t13: food\n",
      "\t14: cars and driving\n",
      "\t15: culture and colors\n",
      "\t16: money and finances\n",
      "\n",
      "\n"
     ]
    },
    {
     "data": {
      "image/png": "[encoded data removed]",
      "text/plain": [
       "<PIL.Image.Image image mode=RGB size=110x119 at 0x7F1BC642B6A0>"
      ]
     },
     "metadata": {},
     "output_type": "display_data"
    },
    {
     "ename": "KeyboardInterrupt",
     "evalue": "",
     "output_type": "error",
     "traceback": [
      "\u001b[0;31m---------------------------------------------------------------------------\u001b[0m",
      "\u001b[0;31mKeyboardInterrupt\u001b[0m                         Traceback (most recent call last)",
      "\u001b[0;32m/usr/local/lib/python3.6/dist-packages/ipykernel/kernelbase.py\u001b[0m in \u001b[0;36m_input_request\u001b[0;34m(self, prompt, ident, parent, password)\u001b[0m\n\u001b[1;32m    728\u001b[0m             \u001b[0;32mtry\u001b[0m\u001b[0;34m:\u001b[0m\u001b[0;34m\u001b[0m\u001b[0;34m\u001b[0m\u001b[0m\n\u001b[0;32m--> 729\u001b[0;31m                 \u001b[0mident\u001b[0m\u001b[0;34m,\u001b[0m \u001b[0mreply\u001b[0m \u001b[0;34m=\u001b[0m \u001b[0mself\u001b[0m\u001b[0;34m.\u001b[0m\u001b[0msession\u001b[0m\u001b[0;34m.\u001b[0m\u001b[0mrecv\u001b[0m\u001b[0;34m(\u001b[0m\u001b[0mself\u001b[0m\u001b[0;34m.\u001b[0m\u001b[0mstdin_socket\u001b[0m\u001b[0;34m,\u001b[0m \u001b[0;36m0\u001b[0m\u001b[0;34m)\u001b[0m\u001b[0;34m\u001b[0m\u001b[0;34m\u001b[0m\u001b[0m\n\u001b[0m\u001b[1;32m    730\u001b[0m             \u001b[0;32mexcept\u001b[0m \u001b[0mException\u001b[0m\u001b[0;34m:\u001b[0m\u001b[0;34m\u001b[0m\u001b[0;34m\u001b[0m\u001b[0m\n",
      "\u001b[0;32m/usr/local/lib/python3.6/dist-packages/jupyter_client/session.py\u001b[0m in \u001b[0;36mrecv\u001b[0;34m(self, socket, mode, content, copy)\u001b[0m\n\u001b[1;32m    802\u001b[0m         \u001b[0;32mtry\u001b[0m\u001b[0;34m:\u001b[0m\u001b[0;34m\u001b[0m\u001b[0;34m\u001b[0m\u001b[0m\n\u001b[0;32m--> 803\u001b[0;31m             \u001b[0mmsg_list\u001b[0m \u001b[0;34m=\u001b[0m \u001b[0msocket\u001b[0m\u001b[0;34m.\u001b[0m\u001b[0mrecv_multipart\u001b[0m\u001b[0;34m(\u001b[0m\u001b[0mmode\u001b[0m\u001b[0;34m,\u001b[0m \u001b[0mcopy\u001b[0m\u001b[0;34m=\u001b[0m\u001b[0mcopy\u001b[0m\u001b[0;34m)\u001b[0m\u001b[0;34m\u001b[0m\u001b[0;34m\u001b[0m\u001b[0m\n\u001b[0m\u001b[1;32m    804\u001b[0m         \u001b[0;32mexcept\u001b[0m \u001b[0mzmq\u001b[0m\u001b[0;34m.\u001b[0m\u001b[0mZMQError\u001b[0m \u001b[0;32mas\u001b[0m \u001b[0me\u001b[0m\u001b[0;34m:\u001b[0m\u001b[0;34m\u001b[0m\u001b[0;34m\u001b[0m\u001b[0m\n",
      "\u001b[0;32m/usr/local/lib/python3.6/dist-packages/zmq/sugar/socket.py\u001b[0m in \u001b[0;36mrecv_multipart\u001b[0;34m(self, flags, copy, track)\u001b[0m\n\u001b[1;32m    466\u001b[0m         \"\"\"\n\u001b[0;32m--> 467\u001b[0;31m         \u001b[0mparts\u001b[0m \u001b[0;34m=\u001b[0m \u001b[0;34m[\u001b[0m\u001b[0mself\u001b[0m\u001b[0;34m.\u001b[0m\u001b[0mrecv\u001b[0m\u001b[0;34m(\u001b[0m\u001b[0mflags\u001b[0m\u001b[0;34m,\u001b[0m \u001b[0mcopy\u001b[0m\u001b[0;34m=\u001b[0m\u001b[0mcopy\u001b[0m\u001b[0;34m,\u001b[0m \u001b[0mtrack\u001b[0m\u001b[0;34m=\u001b[0m\u001b[0mtrack\u001b[0m\u001b[0;34m)\u001b[0m\u001b[0;34m]\u001b[0m\u001b[0;34m\u001b[0m\u001b[0;34m\u001b[0m\u001b[0m\n\u001b[0m\u001b[1;32m    468\u001b[0m         \u001b[0;31m# have first part already, only loop while more to receive\u001b[0m\u001b[0;34m\u001b[0m\u001b[0;34m\u001b[0m\u001b[0;34m\u001b[0m\u001b[0m\n",
      "\u001b[0;32mzmq/backend/cython/socket.pyx\u001b[0m in \u001b[0;36mzmq.backend.cython.socket.Socket.recv\u001b[0;34m()\u001b[0m\n",
      "\u001b[0;32mzmq/backend/cython/socket.pyx\u001b[0m in \u001b[0;36mzmq.backend.cython.socket.Socket.recv\u001b[0;34m()\u001b[0m\n",
      "\u001b[0;32mzmq/backend/cython/socket.pyx\u001b[0m in \u001b[0;36mzmq.backend.cython.socket._recv_copy\u001b[0;34m()\u001b[0m\n",
      "\u001b[0;32m/usr/local/lib/python3.6/dist-packages/zmq/backend/cython/checkrc.pxd\u001b[0m in \u001b[0;36mzmq.backend.cython.checkrc._check_rc\u001b[0;34m()\u001b[0m\n",
      "\u001b[0;31mKeyboardInterrupt\u001b[0m: ",
      "\nDuring handling of the above exception, another exception occurred:\n",
      "\u001b[0;31mKeyboardInterrupt\u001b[0m                         Traceback (most recent call last)",
      "\u001b[0;32m<ipython-input-16-89e1f62837d5>\u001b[0m in \u001b[0;36m<module>\u001b[0;34m()\u001b[0m\n\u001b[1;32m      5\u001b[0m     \u001b[0mbbox\u001b[0m \u001b[0;34m=\u001b[0m \u001b[0mdetectionsList\u001b[0m\u001b[0;34m[\u001b[0m\u001b[0minfo\u001b[0m\u001b[0;34m]\u001b[0m\u001b[0;34m[\u001b[0m\u001b[0mbbox_idx\u001b[0m\u001b[0;34m]\u001b[0m\u001b[0;34m\u001b[0m\u001b[0;34m\u001b[0m\u001b[0m\n\u001b[1;32m      6\u001b[0m     \u001b[0mshow_bbox\u001b[0m\u001b[0;34m(\u001b[0m\u001b[0mBASE_PATH_INFO\u001b[0m \u001b[0;34m+\u001b[0m \u001b[0minfo\u001b[0m\u001b[0;34m,\u001b[0m \u001b[0mbbox\u001b[0m\u001b[0;34m)\u001b[0m\u001b[0;34m\u001b[0m\u001b[0;34m\u001b[0m\u001b[0m\n\u001b[0;32m----> 7\u001b[0;31m     \u001b[0manswer\u001b[0m \u001b[0;34m=\u001b[0m \u001b[0mget_cat_labels\u001b[0m\u001b[0;34m(\u001b[0m\u001b[0;34m)\u001b[0m\u001b[0;34m\u001b[0m\u001b[0;34m\u001b[0m\u001b[0m\n\u001b[0m\u001b[1;32m      8\u001b[0m     \u001b[0mwrite_label\u001b[0m\u001b[0;34m(\u001b[0m\u001b[0minfo\u001b[0m\u001b[0;34m,\u001b[0m \u001b[0mbbox_idx\u001b[0m\u001b[0;34m,\u001b[0m \u001b[0manswer\u001b[0m\u001b[0;34m)\u001b[0m\u001b[0;34m\u001b[0m\u001b[0;34m\u001b[0m\u001b[0m\n\u001b[1;32m      9\u001b[0m     \u001b[0mclear_output\u001b[0m\u001b[0;34m(\u001b[0m\u001b[0;34m)\u001b[0m\u001b[0;34m\u001b[0m\u001b[0;34m\u001b[0m\u001b[0m\n",
      "\u001b[0;32m<ipython-input-11-b4ee4a0b0a90>\u001b[0m in \u001b[0;36mget_cat_labels\u001b[0;34m()\u001b[0m\n\u001b[1;32m      1\u001b[0m \u001b[0;32mdef\u001b[0m \u001b[0mget_cat_labels\u001b[0m\u001b[0;34m(\u001b[0m\u001b[0;34m)\u001b[0m\u001b[0;34m:\u001b[0m\u001b[0;34m\u001b[0m\u001b[0;34m\u001b[0m\u001b[0m\n\u001b[0;32m----> 2\u001b[0;31m     \u001b[0;32mreturn\u001b[0m \u001b[0minput\u001b[0m\u001b[0;34m(\u001b[0m\u001b[0;34m'Write down your top three category labels for this icon, in order.'\u001b[0m\u001b[0;34m)\u001b[0m\u001b[0;34m\u001b[0m\u001b[0;34m\u001b[0m\u001b[0m\n\u001b[0m",
      "\u001b[0;32m/usr/local/lib/python3.6/dist-packages/ipykernel/kernelbase.py\u001b[0m in \u001b[0;36mraw_input\u001b[0;34m(self, prompt)\u001b[0m\n\u001b[1;32m    702\u001b[0m             \u001b[0mself\u001b[0m\u001b[0;34m.\u001b[0m\u001b[0m_parent_ident\u001b[0m\u001b[0;34m,\u001b[0m\u001b[0;34m\u001b[0m\u001b[0;34m\u001b[0m\u001b[0m\n\u001b[1;32m    703\u001b[0m             \u001b[0mself\u001b[0m\u001b[0;34m.\u001b[0m\u001b[0m_parent_header\u001b[0m\u001b[0;34m,\u001b[0m\u001b[0;34m\u001b[0m\u001b[0;34m\u001b[0m\u001b[0m\n\u001b[0;32m--> 704\u001b[0;31m             \u001b[0mpassword\u001b[0m\u001b[0;34m=\u001b[0m\u001b[0;32mFalse\u001b[0m\u001b[0;34m,\u001b[0m\u001b[0;34m\u001b[0m\u001b[0;34m\u001b[0m\u001b[0m\n\u001b[0m\u001b[1;32m    705\u001b[0m         )\n\u001b[1;32m    706\u001b[0m \u001b[0;34m\u001b[0m\u001b[0m\n",
      "\u001b[0;32m/usr/local/lib/python3.6/dist-packages/ipykernel/kernelbase.py\u001b[0m in \u001b[0;36m_input_request\u001b[0;34m(self, prompt, ident, parent, password)\u001b[0m\n\u001b[1;32m    732\u001b[0m             \u001b[0;32mexcept\u001b[0m \u001b[0mKeyboardInterrupt\u001b[0m\u001b[0;34m:\u001b[0m\u001b[0;34m\u001b[0m\u001b[0;34m\u001b[0m\u001b[0m\n\u001b[1;32m    733\u001b[0m                 \u001b[0;31m# re-raise KeyboardInterrupt, to truncate traceback\u001b[0m\u001b[0;34m\u001b[0m\u001b[0;34m\u001b[0m\u001b[0;34m\u001b[0m\u001b[0m\n\u001b[0;32m--> 734\u001b[0;31m                 \u001b[0;32mraise\u001b[0m \u001b[0mKeyboardInterrupt\u001b[0m\u001b[0;34m\u001b[0m\u001b[0;34m\u001b[0m\u001b[0m\n\u001b[0m\u001b[1;32m    735\u001b[0m             \u001b[0;32melse\u001b[0m\u001b[0;34m:\u001b[0m\u001b[0;34m\u001b[0m\u001b[0;34m\u001b[0m\u001b[0m\n\u001b[1;32m    736\u001b[0m                 \u001b[0;32mbreak\u001b[0m\u001b[0;34m\u001b[0m\u001b[0;34m\u001b[0m\u001b[0m\n",
      "\u001b[0;31mKeyboardInterrupt\u001b[0m: "
     ]
    }
   ],
   "source": [
    "for t in tasks: \n",
    "    print_instructions()\n",
    "    print_category_options()\n",
    "    info, bbox_idx = t\n",
    "    bbox = detectionsList[info][bbox_idx]\n",
    "    show_bbox(BASE_PATH_INFO + info, bbox)\n",
    "    answer = get_cat_labels()\n",
    "    write_label(info, bbox_idx, answer)\n",
    "    clear_output()  \n",
    "    \n",
    "print(\"You're done! Thanks!\")"
   ]
  },
  {
   "cell_type": "code",
   "execution_count": null,
   "metadata": {},
   "outputs": [],
   "source": []
  }
 ],
 "metadata": {
  "kernelspec": {
   "display_name": "Python 3",
   "language": "python",
   "name": "python3"
  },
  "language_info": {
   "codemirror_mode": {
    "name": "ipython",
    "version": 3
   },
   "file_extension": ".py",
   "mimetype": "text/x-python",
   "name": "python",
   "nbconvert_exporter": "python",
   "pygments_lexer": "ipython3",
   "version": "3.6.7"
  }
 },
 "nbformat": 4,
 "nbformat_minor": 2
}
